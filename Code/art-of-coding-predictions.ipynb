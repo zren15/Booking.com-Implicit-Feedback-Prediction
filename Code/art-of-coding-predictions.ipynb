{
 "cells": [
  {
   "cell_type": "code",
   "execution_count": 1,
   "metadata": {
    "ExecuteTime": {
     "end_time": "2022-02-25T18:25:36.589681Z",
     "start_time": "2022-02-25T18:25:36.585659Z"
    }
   },
   "outputs": [],
   "source": [
    "import numpy as np\n",
    "import pandas as pd \n",
    "import torch\n",
    "import torch.autograd as autograd \n",
    "import torch.nn as nn \n",
    "import torch.nn.functional as F\n",
    "import torch.optim as optim\n",
    "from torch.utils.data import TensorDataset, DataLoader\n",
    "from sklearn.metrics import roc_auc_score\n",
    "import matplotlib.pyplot as plt"
   ]
  },
  {
   "cell_type": "markdown",
   "metadata": {},
   "source": [
    "## Exploring the Data\n",
    "\n",
    "##### Item Data:"
   ]
  },
  {
   "cell_type": "code",
   "execution_count": 4,
   "metadata": {
    "ExecuteTime": {
     "end_time": "2022-02-25T18:25:37.719052Z",
     "start_time": "2022-02-25T18:25:37.697006Z"
    },
    "scrolled": true
   },
   "outputs": [
    {
     "data": {
      "text/html": [
       "<div>\n",
       "<style scoped>\n",
       "    .dataframe tbody tr th:only-of-type {\n",
       "        vertical-align: middle;\n",
       "    }\n",
       "\n",
       "    .dataframe tbody tr th {\n",
       "        vertical-align: top;\n",
       "    }\n",
       "\n",
       "    .dataframe thead th {\n",
       "        text-align: right;\n",
       "    }\n",
       "</style>\n",
       "<table border=\"1\" class=\"dataframe\">\n",
       "  <thead>\n",
       "    <tr style=\"text-align: right;\">\n",
       "      <th></th>\n",
       "      <th>item_id</th>\n",
       "      <th>item_feature_id</th>\n",
       "    </tr>\n",
       "  </thead>\n",
       "  <tbody>\n",
       "    <tr>\n",
       "      <th>39896</th>\n",
       "      <td>39896</td>\n",
       "      <td>138</td>\n",
       "    </tr>\n",
       "    <tr>\n",
       "      <th>39897</th>\n",
       "      <td>39897</td>\n",
       "      <td>95</td>\n",
       "    </tr>\n",
       "    <tr>\n",
       "      <th>39898</th>\n",
       "      <td>39898</td>\n",
       "      <td>142</td>\n",
       "    </tr>\n",
       "    <tr>\n",
       "      <th>39899</th>\n",
       "      <td>39899</td>\n",
       "      <td>131</td>\n",
       "    </tr>\n",
       "    <tr>\n",
       "      <th>39900</th>\n",
       "      <td>39900</td>\n",
       "      <td>2</td>\n",
       "    </tr>\n",
       "  </tbody>\n",
       "</table>\n",
       "</div>"
      ],
      "text/plain": [
       "       item_id  item_feature_id\n",
       "39896    39896              138\n",
       "39897    39897               95\n",
       "39898    39898              142\n",
       "39899    39899              131\n",
       "39900    39900                2"
      ]
     },
     "execution_count": 4,
     "metadata": {},
     "output_type": "execute_result"
    }
   ],
   "source": [
    "## item_feature_id is hotel_country\n",
    "## city_id is item_id\n",
    "path_mike = \"data/item_feature.csv\"\n",
    "path_renne = '/Users/Renne/Desktop/module3/Advanced_Machine_Learning/Kaggle/Kaggle_Zhiyi/item_feature.csv'\n",
    "item = pd.read_csv(path_renne)\n",
    "item.tail()"
   ]
  },
  {
   "cell_type": "markdown",
   "metadata": {},
   "source": [
    "##### Training Data"
   ]
  },
  {
   "cell_type": "code",
   "execution_count": 7,
   "metadata": {
    "ExecuteTime": {
     "end_time": "2022-02-25T18:25:42.363620Z",
     "start_time": "2022-02-25T18:25:42.116221Z"
    },
    "scrolled": true
   },
   "outputs": [
    {
     "data": {
      "text/plain": [
       "(   user_id  item_id  context_feature_id\n",
       " 0        0    28366                   2\n",
       " 1        0    16109                   2\n",
       " 2        0    11500                   3\n",
       " 3        0    20750                   2\n",
       " 4        0     8759                   2,\n",
       " (970245, 3))"
      ]
     },
     "execution_count": 7,
     "metadata": {},
     "output_type": "execute_result"
    }
   ],
   "source": [
    "path_mike = \"data/training.csv\"\n",
    "path_renne = '/Users/Renne/Desktop/module3/Advanced_Machine_Learning/Kaggle/Kaggle_Zhiyi/training.csv'\n",
    "train = pd.read_csv(path_renne)\n",
    "train.head(),train.shape"
   ]
  },
  {
   "cell_type": "code",
   "execution_count": 4,
   "metadata": {
    "ExecuteTime": {
     "end_time": "2022-02-25T18:25:44.286238Z",
     "start_time": "2022-02-25T18:25:44.164573Z"
    }
   },
   "outputs": [
    {
     "name": "stdout",
     "output_type": "stream",
     "text": [
      "train dataset duplicate rows:  77874\n"
     ]
    }
   ],
   "source": [
    "print(\"train dataset duplicate rows: \", len(train[train.duplicated()]))"
   ]
  },
  {
   "cell_type": "code",
   "execution_count": 5,
   "metadata": {
    "ExecuteTime": {
     "end_time": "2022-02-25T18:25:45.581391Z",
     "start_time": "2022-02-25T18:25:45.432856Z"
    }
   },
   "outputs": [],
   "source": [
    "# duplicate rows makes up about 8% of the data, will be removed from training data\n",
    "train_unique = train.drop_duplicates().copy()\n",
    "train_unique = train_unique.reset_index(drop=True)"
   ]
  },
  {
   "cell_type": "code",
   "execution_count": 6,
   "metadata": {
    "ExecuteTime": {
     "end_time": "2022-02-25T18:25:46.632728Z",
     "start_time": "2022-02-25T18:25:46.623878Z"
    }
   },
   "outputs": [
    {
     "data": {
      "text/html": [
       "<div>\n",
       "<style scoped>\n",
       "    .dataframe tbody tr th:only-of-type {\n",
       "        vertical-align: middle;\n",
       "    }\n",
       "\n",
       "    .dataframe tbody tr th {\n",
       "        vertical-align: top;\n",
       "    }\n",
       "\n",
       "    .dataframe thead th {\n",
       "        text-align: right;\n",
       "    }\n",
       "</style>\n",
       "<table border=\"1\" class=\"dataframe\">\n",
       "  <thead>\n",
       "    <tr style=\"text-align: right;\">\n",
       "      <th></th>\n",
       "      <th>user_id</th>\n",
       "      <th>item_id</th>\n",
       "      <th>context_feature_id</th>\n",
       "      <th>ratings</th>\n",
       "    </tr>\n",
       "  </thead>\n",
       "  <tbody>\n",
       "    <tr>\n",
       "      <th>0</th>\n",
       "      <td>0</td>\n",
       "      <td>28366</td>\n",
       "      <td>2</td>\n",
       "      <td>1</td>\n",
       "    </tr>\n",
       "    <tr>\n",
       "      <th>1</th>\n",
       "      <td>0</td>\n",
       "      <td>16109</td>\n",
       "      <td>2</td>\n",
       "      <td>1</td>\n",
       "    </tr>\n",
       "    <tr>\n",
       "      <th>2</th>\n",
       "      <td>0</td>\n",
       "      <td>11500</td>\n",
       "      <td>3</td>\n",
       "      <td>1</td>\n",
       "    </tr>\n",
       "    <tr>\n",
       "      <th>3</th>\n",
       "      <td>0</td>\n",
       "      <td>20750</td>\n",
       "      <td>2</td>\n",
       "      <td>1</td>\n",
       "    </tr>\n",
       "    <tr>\n",
       "      <th>4</th>\n",
       "      <td>0</td>\n",
       "      <td>8759</td>\n",
       "      <td>2</td>\n",
       "      <td>1</td>\n",
       "    </tr>\n",
       "  </tbody>\n",
       "</table>\n",
       "</div>"
      ],
      "text/plain": [
       "   user_id  item_id  context_feature_id  ratings\n",
       "0        0    28366                   2        1\n",
       "1        0    16109                   2        1\n",
       "2        0    11500                   3        1\n",
       "3        0    20750                   2        1\n",
       "4        0     8759                   2        1"
      ]
     },
     "execution_count": 6,
     "metadata": {},
     "output_type": "execute_result"
    }
   ],
   "source": [
    "#adding ratings for items present in training data (binary)\n",
    "train_unique['ratings'] = 1\n",
    "train_unique.head()"
   ]
  },
  {
   "cell_type": "markdown",
   "metadata": {},
   "source": [
    "##### Loading the testing data:"
   ]
  },
  {
   "cell_type": "code",
   "execution_count": 7,
   "metadata": {
    "ExecuteTime": {
     "end_time": "2022-02-25T18:25:50.623445Z",
     "start_time": "2022-02-25T18:25:50.427291Z"
    }
   },
   "outputs": [
    {
     "name": "stdout",
     "output_type": "stream",
     "text": [
      "test data duplicate rows:  19470\n"
     ]
    },
    {
     "data": {
      "text/html": [
       "<div>\n",
       "<style scoped>\n",
       "    .dataframe tbody tr th:only-of-type {\n",
       "        vertical-align: middle;\n",
       "    }\n",
       "\n",
       "    .dataframe tbody tr th {\n",
       "        vertical-align: top;\n",
       "    }\n",
       "\n",
       "    .dataframe thead th {\n",
       "        text-align: right;\n",
       "    }\n",
       "</style>\n",
       "<table border=\"1\" class=\"dataframe\">\n",
       "  <thead>\n",
       "    <tr style=\"text-align: right;\">\n",
       "      <th></th>\n",
       "      <th>user_id</th>\n",
       "      <th>item_id</th>\n",
       "      <th>context_feature_id</th>\n",
       "    </tr>\n",
       "  </thead>\n",
       "  <tbody>\n",
       "    <tr>\n",
       "      <th>0</th>\n",
       "      <td>4</td>\n",
       "      <td>16835</td>\n",
       "      <td>2</td>\n",
       "    </tr>\n",
       "    <tr>\n",
       "      <th>1</th>\n",
       "      <td>4</td>\n",
       "      <td>22590</td>\n",
       "      <td>3</td>\n",
       "    </tr>\n",
       "    <tr>\n",
       "      <th>2</th>\n",
       "      <td>4</td>\n",
       "      <td>1978</td>\n",
       "      <td>1</td>\n",
       "    </tr>\n",
       "    <tr>\n",
       "      <th>3</th>\n",
       "      <td>4</td>\n",
       "      <td>28916</td>\n",
       "      <td>1</td>\n",
       "    </tr>\n",
       "    <tr>\n",
       "      <th>4</th>\n",
       "      <td>4</td>\n",
       "      <td>14427</td>\n",
       "      <td>2</td>\n",
       "    </tr>\n",
       "  </tbody>\n",
       "</table>\n",
       "</div>"
      ],
      "text/plain": [
       "   user_id  item_id  context_feature_id\n",
       "0        4    16835                   2\n",
       "1        4    22590                   3\n",
       "2        4     1978                   1\n",
       "3        4    28916                   1\n",
       "4        4    14427                   2"
      ]
     },
     "execution_count": 7,
     "metadata": {},
     "output_type": "execute_result"
    }
   ],
   "source": [
    "path_mike = \"data/test_kaggle.csv\"\n",
    "path_renne = '/Users/Renne/Desktop/module3/Advanced_Machine_Learning/Kaggle/kaggle-the-art-of-coding/test_kaggle.csv'\n",
    "test = pd.read_csv(path_mike)\n",
    "test = test.drop(columns=['id']) # removing duplicate index id column\n",
    "print(\"test data duplicate rows: \", len(test[test.duplicated()]))\n",
    "test.head()"
   ]
  },
  {
   "cell_type": "markdown",
   "metadata": {},
   "source": [
    "##### Checking for count of shared users/items with training and testing data"
   ]
  },
  {
   "cell_type": "code",
   "execution_count": 8,
   "metadata": {
    "ExecuteTime": {
     "end_time": "2022-02-25T18:25:56.320438Z",
     "start_time": "2022-02-25T18:25:56.271671Z"
    }
   },
   "outputs": [],
   "source": [
    "train_users, train_items = train.user_id.unique(), train.item_id.unique()\n",
    "test_users, test_items = test.user_id.unique(), test.item_id.unique()"
   ]
  },
  {
   "cell_type": "code",
   "execution_count": 9,
   "metadata": {
    "ExecuteTime": {
     "end_time": "2022-02-25T18:25:57.578638Z",
     "start_time": "2022-02-25T18:25:57.372246Z"
    }
   },
   "outputs": [
    {
     "data": {
      "text/plain": [
       "(39900, 200152)"
      ]
     },
     "execution_count": 9,
     "metadata": {},
     "output_type": "execute_result"
    }
   ],
   "source": [
    "max(train_unique['item_id']),max(train_unique['user_id'])"
   ]
  },
  {
   "cell_type": "markdown",
   "metadata": {},
   "source": [
    "## Negative Sampling\n",
    "\n",
    "Both functions were tried to see how it affects the model/error"
   ]
  },
  {
   "cell_type": "code",
   "execution_count": 10,
   "metadata": {
    "ExecuteTime": {
     "end_time": "2022-02-25T18:26:00.891362Z",
     "start_time": "2022-02-25T18:26:00.881974Z"
    }
   },
   "outputs": [],
   "source": [
    "# option1\n",
    "def random_neg_sample1(ncols,nrows,n):\n",
    "    # assgin 0 to each user\n",
    "    zero_rating,zero_users = np.zeros(nrows),np.arange(nrows)\n",
    "    zero_items = np.random.randint(low=0,high=ncols,size=nrows)\n",
    "    zero_content_feature_id = np.random.randint(low=0,high=4,size=nrows)\n",
    "    each_zero_sample = pd.DataFrame({\"user_id\":zero_users,\"item_id\":zero_items,'context_feature_id':zero_content_feature_id,'ratings':zero_rating})\n",
    "    size = n - nrows\n",
    "\n",
    "    # assgin 0 to others randomly\n",
    "    zero_rating, zero_users = np.zeros(size),np.random.randint(low=0,high=nrows,size=size)\n",
    "    zero_items = np.random.randint(low=0,high=ncols,size=size)\n",
    "    zero_content_feature_id = np.random.randint(low=0,high=4,size=size)\n",
    "    other_zero_sample = pd.DataFrame({\"user_id\":zero_users,\"item_id\":zero_items,'context_feature_id':zero_content_feature_id,'ratings':zero_rating})\n",
    "    zero_sample = pd.concat([each_zero_sample,other_zero_sample])\n",
    "    print(zero_sample.shape)\n",
    "    return zero_sample    \n",
    "\n",
    "# option2\n",
    "def random_neg_sample2(ncols,nrows,n):\n",
    "    # assgin random for whole\n",
    "    zero_rating,zero_users = np.zeros(n),np.random.randint(low=0,high=nrows,size=n)\n",
    "    zero_items = np.random.randint(low=0,high=ncols,size=n)\n",
    "    zero_content_feature_id = np.random.randint(low=0,high=4,size=n)\n",
    "    zero_sample = pd.DataFrame({\"user_id\":zero_users,\"item_id\":zero_items,'context_feature_id':zero_content_feature_id,'ratings':zero_rating})\n",
    "    print(zero_sample.shape)\n",
    "    return zero_sample\n",
    "\n",
    "# option 3\n",
    "def random_neg_sample3(ncols,nrows,n):\n",
    "    # assgin 0 to each user\n",
    "    zero_rating,zero_users = np.zeros(nrows),np.arange(nrows)\n",
    "    zero_items = np.random.randint(low=0,high=ncols,size=nrows)\n",
    "    zero_content_feature_id = np.random.randint(low=0,high=4,size=nrows)\n",
    "    user_zero_sample = pd.DataFrame({\"user_id\":zero_users,\"item_id\":zero_items,'context_feature_id':zero_content_feature_id,'ratings':zero_rating})\n",
    "    \n",
    "    # assgin 0 to each item\n",
    "    zero_rating,zero_items = np.zeros(ncols),np.arange(ncols)\n",
    "    zero_users = np.random.randint(low=0,high=nrows,size=ncols)\n",
    "    zero_content_feature_id = np.random.randint(low=0,high=4,size=ncols)\n",
    "    item_zero_sample = pd.DataFrame({\"user_id\":zero_users,\"item_id\":zero_items,'context_feature_id':zero_content_feature_id,'ratings':zero_rating})\n",
    "    size = n - nrows - ncols\n",
    "\n",
    "    # assgin 0 to others randomly\n",
    "    zero_rating, zero_users = np.zeros(size),np.random.randint(low=0,high=nrows,size=size)\n",
    "    zero_items = np.random.randint(low=0,high=ncols,size=size)\n",
    "    zero_content_feature_id = np.random.randint(low=0,high=4,size=size)\n",
    "    other_zero_sample = pd.DataFrame({\"user_id\":zero_users,\"item_id\":zero_items,'context_feature_id':zero_content_feature_id,'ratings':zero_rating})\n",
    "    zero_sample = pd.concat([item_zero_sample,user_zero_sample,other_zero_sample])\n",
    "    print(zero_sample.shape)\n",
    "    return zero_sample  "
   ]
  },
  {
   "cell_type": "code",
   "execution_count": 11,
   "metadata": {
    "ExecuteTime": {
     "end_time": "2022-02-25T18:26:02.691622Z",
     "start_time": "2022-02-25T18:26:02.687061Z"
    }
   },
   "outputs": [
    {
     "data": {
      "text/plain": [
       "1070845"
      ]
     },
     "execution_count": 11,
     "metadata": {},
     "output_type": "execute_result"
    }
   ],
   "source": [
    "# n is the ratio of 0's to be populated.\n",
    "n = int(len(train_unique)*1.2)\n",
    "n #this value was changed many times to see how it affectes model training/errors"
   ]
  },
  {
   "cell_type": "code",
   "execution_count": 12,
   "metadata": {
    "ExecuteTime": {
     "end_time": "2022-02-25T18:26:03.994466Z",
     "start_time": "2022-02-25T18:26:03.785997Z"
    }
   },
   "outputs": [
    {
     "data": {
      "text/plain": [
       "(39900, 200152)"
      ]
     },
     "execution_count": 12,
     "metadata": {},
     "output_type": "execute_result"
    }
   ],
   "source": [
    "num_items = max(train_unique['item_id']) \n",
    "num_users = max(train_unique['user_id']) \n",
    "num_items,num_users "
   ]
  },
  {
   "cell_type": "code",
   "execution_count": 13,
   "metadata": {
    "ExecuteTime": {
     "end_time": "2022-02-25T18:26:05.179732Z",
     "start_time": "2022-02-25T18:26:05.038210Z"
    }
   },
   "outputs": [
    {
     "name": "stdout",
     "output_type": "stream",
     "text": [
      "(1070845, 4)\n"
     ]
    }
   ],
   "source": [
    "zero_df = random_neg_sample3(num_items,num_users,n) "
   ]
  },
  {
   "cell_type": "code",
   "execution_count": 14,
   "metadata": {
    "ExecuteTime": {
     "end_time": "2022-02-25T18:26:06.931594Z",
     "start_time": "2022-02-25T18:26:06.710451Z"
    },
    "scrolled": true
   },
   "outputs": [
    {
     "data": {
      "text/html": [
       "<div>\n",
       "<style scoped>\n",
       "    .dataframe tbody tr th:only-of-type {\n",
       "        vertical-align: middle;\n",
       "    }\n",
       "\n",
       "    .dataframe tbody tr th {\n",
       "        vertical-align: top;\n",
       "    }\n",
       "\n",
       "    .dataframe thead th {\n",
       "        text-align: right;\n",
       "    }\n",
       "</style>\n",
       "<table border=\"1\" class=\"dataframe\">\n",
       "  <thead>\n",
       "    <tr style=\"text-align: right;\">\n",
       "      <th></th>\n",
       "      <th>user_id</th>\n",
       "      <th>item_id</th>\n",
       "      <th>context_feature_id</th>\n",
       "      <th>ratings</th>\n",
       "    </tr>\n",
       "  </thead>\n",
       "  <tbody>\n",
       "    <tr>\n",
       "      <th>count</th>\n",
       "      <td>1.070845e+06</td>\n",
       "      <td>1.070845e+06</td>\n",
       "      <td>1.070845e+06</td>\n",
       "      <td>1070845.0</td>\n",
       "    </tr>\n",
       "    <tr>\n",
       "      <th>mean</th>\n",
       "      <td>1.000816e+05</td>\n",
       "      <td>1.994320e+04</td>\n",
       "      <td>1.499169e+00</td>\n",
       "      <td>0.0</td>\n",
       "    </tr>\n",
       "    <tr>\n",
       "      <th>std</th>\n",
       "      <td>5.779950e+04</td>\n",
       "      <td>1.152483e+04</td>\n",
       "      <td>1.118721e+00</td>\n",
       "      <td>0.0</td>\n",
       "    </tr>\n",
       "    <tr>\n",
       "      <th>min</th>\n",
       "      <td>0.000000e+00</td>\n",
       "      <td>0.000000e+00</td>\n",
       "      <td>0.000000e+00</td>\n",
       "      <td>0.0</td>\n",
       "    </tr>\n",
       "    <tr>\n",
       "      <th>25%</th>\n",
       "      <td>4.998600e+04</td>\n",
       "      <td>9.968000e+03</td>\n",
       "      <td>0.000000e+00</td>\n",
       "      <td>0.0</td>\n",
       "    </tr>\n",
       "    <tr>\n",
       "      <th>50%</th>\n",
       "      <td>1.000850e+05</td>\n",
       "      <td>1.993300e+04</td>\n",
       "      <td>1.000000e+00</td>\n",
       "      <td>0.0</td>\n",
       "    </tr>\n",
       "    <tr>\n",
       "      <th>75%</th>\n",
       "      <td>1.501710e+05</td>\n",
       "      <td>2.992900e+04</td>\n",
       "      <td>3.000000e+00</td>\n",
       "      <td>0.0</td>\n",
       "    </tr>\n",
       "    <tr>\n",
       "      <th>max</th>\n",
       "      <td>2.001510e+05</td>\n",
       "      <td>3.989900e+04</td>\n",
       "      <td>3.000000e+00</td>\n",
       "      <td>0.0</td>\n",
       "    </tr>\n",
       "  </tbody>\n",
       "</table>\n",
       "</div>"
      ],
      "text/plain": [
       "            user_id       item_id  context_feature_id    ratings\n",
       "count  1.070845e+06  1.070845e+06        1.070845e+06  1070845.0\n",
       "mean   1.000816e+05  1.994320e+04        1.499169e+00        0.0\n",
       "std    5.779950e+04  1.152483e+04        1.118721e+00        0.0\n",
       "min    0.000000e+00  0.000000e+00        0.000000e+00        0.0\n",
       "25%    4.998600e+04  9.968000e+03        0.000000e+00        0.0\n",
       "50%    1.000850e+05  1.993300e+04        1.000000e+00        0.0\n",
       "75%    1.501710e+05  2.992900e+04        3.000000e+00        0.0\n",
       "max    2.001510e+05  3.989900e+04        3.000000e+00        0.0"
      ]
     },
     "execution_count": 14,
     "metadata": {},
     "output_type": "execute_result"
    }
   ],
   "source": [
    "zero_df.describe()"
   ]
  },
  {
   "cell_type": "code",
   "execution_count": 15,
   "metadata": {
    "ExecuteTime": {
     "end_time": "2022-02-25T18:26:08.565729Z",
     "start_time": "2022-02-25T18:26:08.012012Z"
    }
   },
   "outputs": [
    {
     "name": "stdout",
     "output_type": "stream",
     "text": [
      "(1963216, 4)\n",
      "(1933645, 4)\n"
     ]
    }
   ],
   "source": [
    "# combine with train_unique, drop duplicate ('user_id', 'item_id', 'context_feature_id'), \n",
    "# if 3 columns value are same, keep the rating =1 row\n",
    "df = pd.concat([train_unique,zero_df],axis=0)\n",
    "print(df.shape)\n",
    "df = df.drop_duplicates(subset=['user_id', 'item_id'],keep='first')\n",
    "print(df.shape)"
   ]
  },
  {
   "cell_type": "code",
   "execution_count": 16,
   "metadata": {
    "ExecuteTime": {
     "end_time": "2022-02-25T18:26:09.956394Z",
     "start_time": "2022-02-25T18:26:09.612684Z"
    },
    "scrolled": true
   },
   "outputs": [
    {
     "data": {
      "text/html": [
       "<div>\n",
       "<style scoped>\n",
       "    .dataframe tbody tr th:only-of-type {\n",
       "        vertical-align: middle;\n",
       "    }\n",
       "\n",
       "    .dataframe tbody tr th {\n",
       "        vertical-align: top;\n",
       "    }\n",
       "\n",
       "    .dataframe thead th {\n",
       "        text-align: right;\n",
       "    }\n",
       "</style>\n",
       "<table border=\"1\" class=\"dataframe\">\n",
       "  <thead>\n",
       "    <tr style=\"text-align: right;\">\n",
       "      <th></th>\n",
       "      <th>user_id</th>\n",
       "      <th>item_id</th>\n",
       "      <th>context_feature_id</th>\n",
       "      <th>ratings</th>\n",
       "      <th>item_feature_id</th>\n",
       "    </tr>\n",
       "  </thead>\n",
       "  <tbody>\n",
       "    <tr>\n",
       "      <th>0</th>\n",
       "      <td>0</td>\n",
       "      <td>28366</td>\n",
       "      <td>2</td>\n",
       "      <td>1.0</td>\n",
       "      <td>7</td>\n",
       "    </tr>\n",
       "    <tr>\n",
       "      <th>1</th>\n",
       "      <td>1731</td>\n",
       "      <td>28366</td>\n",
       "      <td>1</td>\n",
       "      <td>1.0</td>\n",
       "      <td>7</td>\n",
       "    </tr>\n",
       "    <tr>\n",
       "      <th>2</th>\n",
       "      <td>10168</td>\n",
       "      <td>28366</td>\n",
       "      <td>2</td>\n",
       "      <td>1.0</td>\n",
       "      <td>7</td>\n",
       "    </tr>\n",
       "    <tr>\n",
       "      <th>3</th>\n",
       "      <td>18883</td>\n",
       "      <td>28366</td>\n",
       "      <td>1</td>\n",
       "      <td>1.0</td>\n",
       "      <td>7</td>\n",
       "    </tr>\n",
       "    <tr>\n",
       "      <th>4</th>\n",
       "      <td>19763</td>\n",
       "      <td>28366</td>\n",
       "      <td>2</td>\n",
       "      <td>1.0</td>\n",
       "      <td>7</td>\n",
       "    </tr>\n",
       "  </tbody>\n",
       "</table>\n",
       "</div>"
      ],
      "text/plain": [
       "   user_id  item_id  context_feature_id  ratings  item_feature_id\n",
       "0        0    28366                   2      1.0                7\n",
       "1     1731    28366                   1      1.0                7\n",
       "2    10168    28366                   2      1.0                7\n",
       "3    18883    28366                   1      1.0                7\n",
       "4    19763    28366                   2      1.0                7"
      ]
     },
     "execution_count": 16,
     "metadata": {},
     "output_type": "execute_result"
    }
   ],
   "source": [
    "# merge 2 datasets\n",
    "train_df = df.merge(item, on='item_id')\n",
    "train_df.head()"
   ]
  },
  {
   "cell_type": "markdown",
   "metadata": {},
   "source": [
    "## Train-valid splitting"
   ]
  },
  {
   "cell_type": "code",
   "execution_count": 17,
   "metadata": {
    "ExecuteTime": {
     "end_time": "2022-02-25T18:29:31.542773Z",
     "start_time": "2022-02-25T18:29:31.413104Z"
    }
   },
   "outputs": [
    {
     "data": {
      "text/plain": [
       "(862993, 1070652)"
      ]
     },
     "execution_count": 17,
     "metadata": {},
     "output_type": "execute_result"
    }
   ],
   "source": [
    "ratings_one = train_df[train_df['ratings'] == 1.0]\n",
    "ratings_zero = train_df[train_df['ratings'] == 0.0]\n",
    "len(ratings_one), len(ratings_zero)"
   ]
  },
  {
   "cell_type": "code",
   "execution_count": 18,
   "metadata": {
    "ExecuteTime": {
     "end_time": "2022-02-25T18:32:40.248637Z",
     "start_time": "2022-02-25T18:32:39.421776Z"
    }
   },
   "outputs": [],
   "source": [
    "def sample_df(ratings_one,ratings_zero):\n",
    "    msk = np.random.rand(len(ratings_one)) < 0.8\n",
    "    train_one = ratings_one[msk].reset_index(drop=True)\n",
    "    valid_one = ratings_one[~msk].reset_index(drop=True)\n",
    "    \n",
    "    msk = np.random.rand(len(ratings_zero)) < 0.8\n",
    "    train_zero = ratings_zero[msk].sample(frac= len(ratings_one)/len(ratings_zero)).reset_index(drop=True)\n",
    "    valid_zero = ratings_zero[~msk].sample(frac= len(ratings_one)/len(ratings_zero)).reset_index(drop=True)\n",
    "    \n",
    "    train = pd.concat([train_one,train_zero]).sample(frac=1).reset_index(drop=True)\n",
    "    valid = pd.concat([valid_one,valid_zero]).sample(frac=1).reset_index(drop=True)\n",
    "    return train,valid\n",
    "\n",
    "train, valid = sample_df(ratings_one,ratings_zero) "
   ]
  },
  {
   "cell_type": "code",
   "execution_count": 19,
   "metadata": {
    "ExecuteTime": {
     "end_time": "2022-02-25T18:32:41.302089Z",
     "start_time": "2022-02-25T18:32:41.289445Z"
    }
   },
   "outputs": [
    {
     "data": {
      "text/plain": [
       "(         user_id  item_id  context_feature_id  ratings  item_feature_id\n",
       " 0          86835     4265                   1      1.0              156\n",
       " 1           5417    30521                   2      1.0              142\n",
       " 2          39276    22759                   3      0.0              108\n",
       " 3         125650     7458                   1      0.0              148\n",
       " 4         150697    18414                   1      0.0               44\n",
       " ...          ...      ...                 ...      ...              ...\n",
       " 1380895    10689    31481                   3      0.0               63\n",
       " 1380896    21192    24921                   2      1.0              108\n",
       " 1380897   154490    18452                   3      0.0               72\n",
       " 1380898   132084     8628                   2      0.0              138\n",
       " 1380899    10260    26352                   2      1.0               55\n",
       " \n",
       " [1380900 rows x 5 columns],\n",
       "         user_id  item_id  context_feature_id  ratings  item_feature_id\n",
       " 0         40869     5002                   2      0.0              148\n",
       " 1        126948    28034                   2      1.0              148\n",
       " 2         79867    35325                   2      0.0              148\n",
       " 3         88476    26523                   3      0.0              148\n",
       " 4        173636     5330                   2      1.0              139\n",
       " ...         ...      ...                 ...      ...              ...\n",
       " 345081    99380    27698                   3      0.0               63\n",
       " 345082   191411    34291                   0      0.0              148\n",
       " 345083    88891     6651                   2      1.0              130\n",
       " 345084    69440    31434                   3      1.0              153\n",
       " 345085   193081    15191                   0      0.0              147\n",
       " \n",
       " [345086 rows x 5 columns])"
      ]
     },
     "execution_count": 19,
     "metadata": {},
     "output_type": "execute_result"
    }
   ],
   "source": [
    "train,valid "
   ]
  },
  {
   "cell_type": "code",
   "execution_count": 20,
   "metadata": {
    "ExecuteTime": {
     "end_time": "2022-02-25T18:32:44.051243Z",
     "start_time": "2022-02-25T18:32:43.975340Z"
    }
   },
   "outputs": [
    {
     "data": {
      "text/plain": [
       "1.0015973352621181"
      ]
     },
     "execution_count": 20,
     "metadata": {},
     "output_type": "execute_result"
    }
   ],
   "source": [
    "len(train[train['ratings'] == 1.0])/len(train[train['ratings'] == 0.0])"
   ]
  },
  {
   "cell_type": "code",
   "execution_count": 21,
   "metadata": {
    "ExecuteTime": {
     "end_time": "2022-02-25T18:32:45.366118Z",
     "start_time": "2022-02-25T18:32:45.343171Z"
    }
   },
   "outputs": [
    {
     "data": {
      "text/plain": [
       "0.9936335170485401"
      ]
     },
     "execution_count": 21,
     "metadata": {},
     "output_type": "execute_result"
    }
   ],
   "source": [
    "len(valid[valid['ratings'] == 1.0])/len(valid[valid['ratings'] == 0.0])"
   ]
  },
  {
   "cell_type": "markdown",
   "metadata": {},
   "source": [
    "## Embedding Users and Items"
   ]
  },
  {
   "cell_type": "code",
   "execution_count": 22,
   "metadata": {
    "ExecuteTime": {
     "end_time": "2022-02-25T18:32:49.932955Z",
     "start_time": "2022-02-25T18:32:49.922907Z"
    }
   },
   "outputs": [],
   "source": [
    "#creating tensors from data for embedding\n",
    "users_train = torch.LongTensor(train.user_id.values)\n",
    "items_train = torch.LongTensor(train.item_id.values)\n",
    "context_feature_train = torch.LongTensor(train.context_feature_id.values)\n",
    "item_feature_train = torch.LongTensor(train.item_feature_id.values)\n",
    "ratings_train = torch.FloatTensor(train.ratings.values)\n",
    "\n",
    "users_valid = torch.LongTensor(valid.user_id.values)\n",
    "items_valid = torch.LongTensor(valid.item_id.values)\n",
    "context_feature_valid = torch.LongTensor(valid.context_feature_id.values)\n",
    "item_feature_valid = torch.LongTensor(valid.item_feature_id.values)\n",
    "ratings_valid = torch.FloatTensor(valid.ratings.values)\n",
    "\n",
    "train_tensor = TensorDataset(users_train,items_train,ratings_train,context_feature_train,item_feature_train)\n",
    "valid_tensor = TensorDataset(users_valid,items_valid,ratings_valid,context_feature_valid,item_feature_valid)"
   ]
  },
  {
   "cell_type": "markdown",
   "metadata": {},
   "source": [
    "## Training Functions"
   ]
  },
  {
   "cell_type": "code",
   "execution_count": 23,
   "metadata": {
    "ExecuteTime": {
     "end_time": "2022-02-25T18:46:26.129228Z",
     "start_time": "2022-02-25T18:46:26.124724Z"
    }
   },
   "outputs": [],
   "source": [
    "def train_one_epoch(model, train_dl, optimizer):\n",
    "    model.train()\n",
    "    \"\"\" Trains the model for one epoch\"\"\"\n",
    "    for u,i,r in train_dl:\n",
    "        y_hat = model(u,i)\n",
    "        \n",
    "        loss = F.binary_cross_entropy(y_hat, r)\n",
    "        optimizer.zero_grad()\n",
    "        loss.backward()\n",
    "        optimizer.step()\n",
    "        train_loss = loss.item()\n",
    "    return train_loss"
   ]
  },
  {
   "cell_type": "code",
   "execution_count": 24,
   "metadata": {
    "ExecuteTime": {
     "end_time": "2022-02-25T18:46:27.239735Z",
     "start_time": "2022-02-25T18:46:27.234231Z"
    }
   },
   "outputs": [],
   "source": [
    "def valid_metrics(model,dataloader):\n",
    "    model.eval()\n",
    "    losses = []\n",
    "    y_hats = []\n",
    "    ys = []\n",
    "    \n",
    "    for u,i,r in dataloader: \n",
    "        y_hat = model(u,i)\n",
    "        y_hats.append(y_hat.detach().numpy())\n",
    "        loss = F.binary_cross_entropy(y_hat, r)\n",
    "        ys.append(r.numpy())\n",
    "        losses.append(loss.item())\n",
    "    \n",
    "    ys = np.concatenate(ys)\n",
    "    y_hats = np.concatenate(y_hats)\n",
    "    roc_auc = roc_auc_score(ys,y_hats)\n",
    "    return np.mean(losses), roc_auc"
   ]
  },
  {
   "cell_type": "code",
   "execution_count": 134,
   "metadata": {},
   "outputs": [],
   "source": [
    "def training(model, ratings_one, ratings_zero, epochs=10, lr=0.01, wd=0.0):\n",
    "    optimizer = torch.optim.Adam(model.parameters(), lr=lr, weight_decay=wd)\n",
    "    train, valid = sample_df(ratings_one,ratings_zero)\n",
    "    \n",
    "    for i in range(epochs):             \n",
    "        users_train = torch.LongTensor(train.user_id.values)\n",
    "        items_train = torch.LongTensor(train.item_id.values)\n",
    "        ratings_train = torch.FloatTensor(train.ratings.values)\n",
    "\n",
    "        users_valid = torch.LongTensor(valid.user_id.values)\n",
    "        items_valid = torch.LongTensor(valid.item_id.values)\n",
    "        ratings_valid = torch.FloatTensor(valid.ratings.values)\n",
    "\n",
    "        train_tensor = TensorDataset(users_train,items_train,ratings_train)\n",
    "        valid_tensor = TensorDataset(users_valid,items_valid,ratings_valid)\n",
    "\n",
    "        train_dl = DataLoader(train_tensor,batch_size=10000,shuffle=True)\n",
    "        valid_dl = DataLoader(valid_tensor,batch_size=10000000,shuffle=True)\n",
    "    \n",
    "        train_loss = train_one_epoch(model, train_dl, optimizer)\n",
    "        valid_loss, valid_acc = valid_metrics(model, valid_dl) \n",
    "        if i % 3 ==0:\n",
    "            train, valid = sample_df(ratings_one,ratings_zero)\n",
    "        print(f\"{i+1:02d}: train loss {train_loss:.3f} valid loss {valid_loss:.3f} valid acc {valid_acc:.3f}\") \n",
    "    return train_loss, valid_loss, valid_acc"
   ]
  },
  {
   "cell_type": "markdown",
   "metadata": {},
   "source": [
    "## Matrix Factorization "
   ]
  },
  {
   "cell_type": "code",
   "execution_count": 135,
   "metadata": {},
   "outputs": [],
   "source": [
    "class MF(nn.Module):\n",
    "    def __init__(self, num_users, num_items, emb_size=100, seed=23):\n",
    "        super(MF, self).__init__()\n",
    "        torch.manual_seed(seed)\n",
    "        self.user_emb = nn.Embedding(num_users, emb_size)\n",
    "        self.user_bias = nn.Embedding(num_users, 1)\n",
    "        self.item_emb = nn.Embedding(num_items, emb_size)\n",
    "        self.item_bias = nn.Embedding(num_items, 1)\n",
    "        # init\n",
    "        self.user_emb.weight.data.uniform_(0,0.05)\n",
    "        self.item_emb.weight.data.uniform_(0,0.05)\n",
    "        self.user_bias.weight.data.uniform_(-0.01,0.01)\n",
    "        self.item_bias.weight.data.uniform_(-0.01,0.01)\n",
    "\n",
    "    def forward(self, u, v):\n",
    "        U = self.user_emb(u)\n",
    "        V = self.item_emb(v)\n",
    "        b_u = self.user_bias(u).squeeze()\n",
    "        b_v = self.item_bias(v).squeeze()\n",
    "        return torch.sigmoid((U*V).sum(1) +  b_u  + b_v)"
   ]
  },
  {
   "cell_type": "markdown",
   "metadata": {},
   "source": [
    "#### Single Model Training"
   ]
  },
  {
   "cell_type": "code",
   "execution_count": 136,
   "metadata": {},
   "outputs": [
    {
     "name": "stdout",
     "output_type": "stream",
     "text": [
      "01: train loss 0.423 valid loss 0.453 valid acc 0.884\n",
      "02: train loss 0.510 valid loss 0.497 valid acc 0.881\n",
      "03: train loss 0.398 valid loss 0.457 valid acc 0.892\n",
      "04: train loss 0.361 valid loss 0.413 valid acc 0.903\n",
      "05: train loss 0.483 valid loss 0.447 valid acc 0.896\n",
      "06: train loss 0.410 valid loss 0.482 valid acc 0.889\n",
      "07: train loss 0.362 valid loss 0.470 valid acc 0.892\n",
      "08: train loss 0.500 valid loss 0.525 valid acc 0.883\n",
      "09: train loss 0.424 valid loss 0.522 valid acc 0.884\n",
      "10: train loss 0.450 valid loss 0.463 valid acc 0.894\n"
     ]
    },
    {
     "data": {
      "text/plain": [
       "(0.4500303566455841, 0.46304982900619507, 0.8939215687394064)"
      ]
     },
     "execution_count": 136,
     "metadata": {},
     "output_type": "execute_result"
    }
   ],
   "source": [
    "model = MF(num_users+1, num_items+1, emb_size=55)\n",
    "training(model,ratings_one,ratings_zero, epochs=10, lr=0.1, wd=1e-6)"
   ]
  },
  {
   "cell_type": "code",
   "execution_count": 137,
   "metadata": {},
   "outputs": [
    {
     "name": "stdout",
     "output_type": "stream",
     "text": [
      "01: train loss 0.236 valid loss 0.263 valid acc 0.963\n",
      "02: train loss 0.252 valid loss 0.226 valid acc 0.979\n"
     ]
    },
    {
     "data": {
      "text/plain": [
       "(0.2519039511680603, 0.22615773975849152, 0.9791527649285263)"
      ]
     },
     "execution_count": 137,
     "metadata": {},
     "output_type": "execute_result"
    }
   ],
   "source": [
    "#dynamic learning rate\n",
    "training(model,ratings_one,ratings_zero, epochs=2, lr=0.01, wd=1e-6)"
   ]
  },
  {
   "cell_type": "code",
   "execution_count": 132,
   "metadata": {
    "scrolled": true
   },
   "outputs": [
    {
     "data": {
      "text/plain": [
       "(id        83095.892261\n",
       " rating        0.333208\n",
       " dtype: float64,\n",
       " 1282)"
      ]
     },
     "execution_count": 132,
     "metadata": {},
     "output_type": "execute_result"
    }
   ],
   "source": [
    "#Looking at predictions for this model\n",
    "u_test_ = torch.LongTensor(test.user_id.values)\n",
    "v_test_ = torch.LongTensor(test.item_id.values)\n",
    "y_hat_ = model(u_test_, v_test_)\n",
    "test['rating']=y_hat_.detach().numpy()\n",
    "table_ = {'id': test.index, 'rating': y_hat_.detach().numpy()}\n",
    "result_ = pd.DataFrame(table_)\n",
    "pos_res_test = result_[result_['rating'] > 0.5].sum() / len(result_)\n",
    "_400_test = sum(test[test[\"item_id\"] == 400][\"rating\"] > 0.5)\n",
    "pos_res_test, _400_test"
   ]
  },
  {
   "cell_type": "code",
   "execution_count": 133,
   "metadata": {},
   "outputs": [
    {
     "data": {
      "text/plain": [
       "array([[<AxesSubplot:title={'center':'id'}>,\n",
       "        <AxesSubplot:title={'center':'rating'}>]], dtype=object)"
      ]
     },
     "execution_count": 133,
     "metadata": {},
     "output_type": "execute_result"
    },
    {
     "data": {
      "image/png": "[encoded data removed]",
      "text/plain": [
       "<Figure size 432x288 with 2 Axes>"
      ]
     },
     "metadata": {
      "needs_background": "light"
     },
     "output_type": "display_data"
    }
   ],
   "source": [
    "result_.hist()"
   ]
  },
  {
   "cell_type": "code",
   "execution_count": 68,
   "metadata": {},
   "outputs": [],
   "source": [
    "#Saving results if desired \n",
    "result_.to_csv(f'past_results/results_MF_negsample3_A.csv', index=False)"
   ]
  },
  {
   "cell_type": "markdown",
   "metadata": {},
   "source": [
    "#### Grid Search "
   ]
  },
  {
   "cell_type": "code",
   "execution_count": null,
   "metadata": {},
   "outputs": [],
   "source": [
    "#setting up data on GPU\n",
    "if torch.cuda.is_available():\n",
    "    device = torch.device(\"cuda:0\" if torch.cuda.is_available() else \"cpu\")\n",
    "# train.to(device)\n",
    "# valid.to(device)\n",
    "# tensor_item_fea.to(device)\n",
    "# tensor_context_fea.to(device)"
   ]
  },
  {
   "cell_type": "code",
   "execution_count": null,
   "metadata": {},
   "outputs": [],
   "source": [
    "def training_GPU(model, ratings_one, ratings_zero, epochs=10, lr=0.01, wd=1e-6, train_batch=100000):\n",
    "    optimizer = torch.optim.Adam(model.parameters(), lr=lr, weight_decay=wd)\n",
    "    train, valid = sample_df(ratings_one,ratings_zero)\n",
    "    \n",
    "    for i in range(epochs):             \n",
    "        users_train = torch.LongTensor(train.user_id.values).to(device)\n",
    "        items_train = torch.LongTensor(train.item_id.values).to(device)\n",
    "        context_feature_train = torch.LongTensor(train.context_feature_id.values).to(device)\n",
    "        item_feature_train = torch.LongTensor(train.item_feature_id.values).to(device)\n",
    "        ratings_train = torch.FloatTensor(train.ratings.values).to(device)\n",
    "\n",
    "        users_valid = torch.LongTensor(valid.user_id.values).to(device)\n",
    "        items_valid = torch.LongTensor(valid.item_id.values).to(device)\n",
    "        context_feature_valid = torch.LongTensor(valid.context_feature_id.values).to(device)\n",
    "        item_feature_valid = torch.LongTensor(valid.item_feature_id.values).to(device)\n",
    "        ratings_valid = torch.FloatTensor(valid.ratings.values).to(device)\n",
    "\n",
    "        train_tensor = TensorDataset(users_train,items_train,ratings_train,context_feature_train,item_feature_train)\n",
    "        valid_tensor = TensorDataset(users_valid,items_valid,ratings_valid,context_feature_valid,item_feature_valid)\n",
    "\n",
    "        train_dl = DataLoader(train_tensor,batch_size=train_batch,shuffle=True)\n",
    "        valid_dl = DataLoader(valid_tensor,batch_size=10000000,shuffle=True)\n",
    "    \n",
    "        train_loss = train_one_epoch_GPU(model, train_dl, optimizer)\n",
    "        valid_loss, valid_acc = valid_metrics_GPU(model, valid_dl) \n",
    "        if i % 3 ==0:\n",
    "            train, valid = sample_df(ratings_one,ratings_zero)\n",
    "        print(f\"{i+1:02d}: train loss {train_loss:.3f} valid loss {valid_loss:.3f} valid acc {valid_acc:.3f}\") \n",
    "    return train_loss, valid_loss, valid_acc"
   ]
  },
  {
   "cell_type": "code",
   "execution_count": null,
   "metadata": {},
   "outputs": [],
   "source": [
    "def valid_metrics_GPU(model,dataloader):\n",
    "    model.eval()\n",
    "    losses = []\n",
    "    y_hats = []\n",
    "    ys = []\n",
    "    \n",
    "    for u,i,r,confea,itemfea in dataloader: \n",
    "        y_hat = model(u,i)\n",
    "        y_hats.append(y_hat.cpu().detach().numpy())\n",
    "        loss = F.binary_cross_entropy(y_hat, r)\n",
    "        ys.append(r.cpu().numpy())\n",
    "        losses.append(loss.item())\n",
    "    \n",
    "    ys = np.concatenate(ys)\n",
    "    y_hats = np.concatenate(y_hats)\n",
    "    roc_auc = roc_auc_score(ys,y_hats)\n",
    "    return np.mean(losses), roc_auc"
   ]
  },
  {
   "cell_type": "code",
   "execution_count": null,
   "metadata": {},
   "outputs": [],
   "source": [
    "def train_one_epoch_GPU(model, train_dl, optimizer):\n",
    "    model.train()\n",
    "    \"\"\" Trains the model for one epoch\"\"\"\n",
    "    for u,i,r,confea,itemfea in train_dl:\n",
    "        y_hat = model(u,i).cpu()\n",
    "        loss = F.binary_cross_entropy(y_hat, r)\n",
    "        optimizer.zero_grad()\n",
    "        loss.backward()\n",
    "        optimizer.step()\n",
    "        train_loss = loss.item()\n",
    "    return train_loss"
   ]
  },
  {
   "cell_type": "code",
   "execution_count": null,
   "metadata": {},
   "outputs": [],
   "source": [
    "# defining possible testing ranges: \n",
    "#n = [1.05, 1.1, 1.15, 1.2, 1.25, 1.3, 1.35]\n",
    "E1 = [8, 10, 12] # number of epochs at larger learning rate (lr1)\n",
    "lr1 = [.12, .1, .08]\n",
    "E2 = [1, 2, 3] # number of epochs at smaller learning rate (lr2)\n",
    "lr2 = [.012,  .01, .008]\n",
    "EB_size = [45, 55, 65]\n",
    "w_decay = [1e-6]\n",
    "n=1.2"
   ]
  },
  {
   "cell_type": "code",
   "execution_count": null,
   "metadata": {},
   "outputs": [],
   "source": [
    "############### DO NOT RUN CELL ##################\n",
    "# GRID SEARCH HAS ALRADY BEEN COMPLETED AND TAKES \n",
    "# A LONG TIME TO RUN; RESULTS WILL BE LOADED BELOW\n",
    "\n",
    "# count = 44\n",
    "# for e1 in E1:\n",
    "#     for L1 in lr1:\n",
    "#         for e2 in E2:\n",
    "#             for L2 in lr2:\n",
    "#                 for embs in EB_size:\n",
    "#                     for WD in w_decay:\n",
    "#                         if 0<len(results_df[(results_df['Epochs_1']==e1)&(results_df['lr1']==L1)&\\\n",
    "#                                                     (results_df['Epochs_2']==e2)&(results_df['lr2']==L2)&\\\n",
    "#                                                     (results_df['emb_size']==embs)&(results_df['weight_decay']==WD)]):\n",
    "#                             pass\n",
    "#                         model = MF(num_users+1, num_items+1, emb_size=embs).to(device)\n",
    "#                         train_loss_, valid_loss_, valid_acc_ = training_GPU(model,ratings_one,ratings_zero, epochs=e1, lr=L1, wd=WD)\n",
    "                        \n",
    "#                         if e2>0:\n",
    "#                             train_loss_, valid_loss_, valid_acc_ = training_GPU(model,ratings_one,ratings_zero, epochs=e2, lr=L2, wd=WD)\n",
    "\n",
    "#                         # creating results\n",
    "#                         u_test_ = torch.LongTensor(test.user_id.values).to(device)\n",
    "#                         v_test_ = torch.LongTensor(test.item_id.values).to(device)\n",
    "#                         y_hat_ = model(u_test_, v_test_)\n",
    "#                         test['rating']=y_hat_.cpu().detach().numpy()\n",
    "#                         table_ = {'id': test.index, 'rating': y_hat_.cpu().detach().numpy()}\n",
    "#                         result_ = pd.DataFrame(table_)\n",
    "#                         result_.to_csv(f'grid_search_results/results_model_{count}.csv', index=False)\n",
    "#                         pos_res_test = result_[result_['rating'] > 0.5].sum() / len(result_)\n",
    "#                         _400_test = sum(test[test[\"item_id\"] == 400][\"rating\"] > 0.5)\n",
    "\n",
    "#                         summary = { 'model':count,\n",
    "#                             'n': n,\n",
    "#                             'Epochs_1': e1,\n",
    "#                             'lr1': L1,\n",
    "#                             'Epochs_2': e2,\n",
    "#                             'lr2': L2,\n",
    "#                             'emb_size': embs,\n",
    "#                             'weight_decay': WD,\n",
    "#                             'train_loss': train_loss_,\n",
    "#                             'val_loss': valid_loss_,\n",
    "#                             'val_acc': valid_acc_,\n",
    "#                             'pos_results': pos_res_test[1],\n",
    "#                             'id_400': _400_test}\n",
    "\n",
    "#                         print(summary)\n",
    "#                         results_df = results_df.append(summary,ignore_index=True)\n",
    "#                         count += 1"
   ]
  },
  {
   "cell_type": "code",
   "execution_count": 37,
   "metadata": {
    "scrolled": true
   },
   "outputs": [
    {
     "data": {
      "text/html": [
       "<div>\n",
       "<style scoped>\n",
       "    .dataframe tbody tr th:only-of-type {\n",
       "        vertical-align: middle;\n",
       "    }\n",
       "\n",
       "    .dataframe tbody tr th {\n",
       "        vertical-align: top;\n",
       "    }\n",
       "\n",
       "    .dataframe thead th {\n",
       "        text-align: right;\n",
       "    }\n",
       "</style>\n",
       "<table border=\"1\" class=\"dataframe\">\n",
       "  <thead>\n",
       "    <tr style=\"text-align: right;\">\n",
       "      <th></th>\n",
       "      <th>Unnamed: 0</th>\n",
       "      <th>n</th>\n",
       "      <th>Epochs_1</th>\n",
       "      <th>lr1</th>\n",
       "      <th>Epochs_2</th>\n",
       "      <th>lr2</th>\n",
       "      <th>emb_size</th>\n",
       "      <th>weight_decay</th>\n",
       "      <th>train_loss</th>\n",
       "      <th>val_loss</th>\n",
       "      <th>val_acc</th>\n",
       "      <th>pos_results</th>\n",
       "      <th>id_400</th>\n",
       "      <th>model</th>\n",
       "    </tr>\n",
       "  </thead>\n",
       "  <tbody>\n",
       "    <tr>\n",
       "      <th>0</th>\n",
       "      <td>0</td>\n",
       "      <td>1.2</td>\n",
       "      <td>8.0</td>\n",
       "      <td>0.12</td>\n",
       "      <td>0.0</td>\n",
       "      <td>0.012</td>\n",
       "      <td>45.0</td>\n",
       "      <td>0.000000</td>\n",
       "      <td>0.043641</td>\n",
       "      <td>0.046764</td>\n",
       "      <td>0.998366</td>\n",
       "      <td>0.413625</td>\n",
       "      <td>1384.0</td>\n",
       "      <td>NaN</td>\n",
       "    </tr>\n",
       "    <tr>\n",
       "      <th>1</th>\n",
       "      <td>1</td>\n",
       "      <td>1.2</td>\n",
       "      <td>8.0</td>\n",
       "      <td>0.12</td>\n",
       "      <td>0.0</td>\n",
       "      <td>0.012</td>\n",
       "      <td>45.0</td>\n",
       "      <td>0.000001</td>\n",
       "      <td>0.255040</td>\n",
       "      <td>0.260267</td>\n",
       "      <td>0.968527</td>\n",
       "      <td>0.420315</td>\n",
       "      <td>1427.0</td>\n",
       "      <td>NaN</td>\n",
       "    </tr>\n",
       "    <tr>\n",
       "      <th>2</th>\n",
       "      <td>2</td>\n",
       "      <td>1.2</td>\n",
       "      <td>8.0</td>\n",
       "      <td>0.12</td>\n",
       "      <td>0.0</td>\n",
       "      <td>0.012</td>\n",
       "      <td>45.0</td>\n",
       "      <td>0.000010</td>\n",
       "      <td>0.443132</td>\n",
       "      <td>0.442652</td>\n",
       "      <td>0.917517</td>\n",
       "      <td>0.452113</td>\n",
       "      <td>1445.0</td>\n",
       "      <td>NaN</td>\n",
       "    </tr>\n",
       "    <tr>\n",
       "      <th>3</th>\n",
       "      <td>3</td>\n",
       "      <td>1.2</td>\n",
       "      <td>8.0</td>\n",
       "      <td>0.12</td>\n",
       "      <td>0.0</td>\n",
       "      <td>0.012</td>\n",
       "      <td>50.0</td>\n",
       "      <td>0.000000</td>\n",
       "      <td>0.045970</td>\n",
       "      <td>0.049601</td>\n",
       "      <td>0.998362</td>\n",
       "      <td>0.417342</td>\n",
       "      <td>1396.0</td>\n",
       "      <td>NaN</td>\n",
       "    </tr>\n",
       "    <tr>\n",
       "      <th>4</th>\n",
       "      <td>4</td>\n",
       "      <td>1.2</td>\n",
       "      <td>8.0</td>\n",
       "      <td>0.12</td>\n",
       "      <td>0.0</td>\n",
       "      <td>0.012</td>\n",
       "      <td>50.0</td>\n",
       "      <td>0.000001</td>\n",
       "      <td>0.255603</td>\n",
       "      <td>0.262247</td>\n",
       "      <td>0.967633</td>\n",
       "      <td>0.420946</td>\n",
       "      <td>1434.0</td>\n",
       "      <td>NaN</td>\n",
       "    </tr>\n",
       "  </tbody>\n",
       "</table>\n",
       "</div>"
      ],
      "text/plain": [
       "   Unnamed: 0    n  Epochs_1   lr1  Epochs_2    lr2  emb_size  weight_decay  \\\n",
       "0           0  1.2       8.0  0.12       0.0  0.012      45.0      0.000000   \n",
       "1           1  1.2       8.0  0.12       0.0  0.012      45.0      0.000001   \n",
       "2           2  1.2       8.0  0.12       0.0  0.012      45.0      0.000010   \n",
       "3           3  1.2       8.0  0.12       0.0  0.012      50.0      0.000000   \n",
       "4           4  1.2       8.0  0.12       0.0  0.012      50.0      0.000001   \n",
       "\n",
       "   train_loss  val_loss   val_acc  pos_results  id_400  model  \n",
       "0    0.043641  0.046764  0.998366     0.413625  1384.0    NaN  \n",
       "1    0.255040  0.260267  0.968527     0.420315  1427.0    NaN  \n",
       "2    0.443132  0.442652  0.917517     0.452113  1445.0    NaN  \n",
       "3    0.045970  0.049601  0.998362     0.417342  1396.0    NaN  \n",
       "4    0.255603  0.262247  0.967633     0.420946  1434.0    NaN  "
      ]
     },
     "execution_count": 37,
     "metadata": {},
     "output_type": "execute_result"
    }
   ],
   "source": [
    "GR = pd.read_csv('grid_results.csv')\n",
    "#del GR['Unnamed: 0']\n",
    "#del GR['model']\n",
    "GR.head()"
   ]
  },
  {
   "cell_type": "code",
   "execution_count": 84,
   "metadata": {},
   "outputs": [
    {
     "data": {
      "text/html": [
       "<div>\n",
       "<style scoped>\n",
       "    .dataframe tbody tr th:only-of-type {\n",
       "        vertical-align: middle;\n",
       "    }\n",
       "\n",
       "    .dataframe tbody tr th {\n",
       "        vertical-align: top;\n",
       "    }\n",
       "\n",
       "    .dataframe thead th {\n",
       "        text-align: right;\n",
       "    }\n",
       "</style>\n",
       "<table border=\"1\" class=\"dataframe\">\n",
       "  <thead>\n",
       "    <tr style=\"text-align: right;\">\n",
       "      <th></th>\n",
       "      <th>Unnamed: 0</th>\n",
       "      <th>n</th>\n",
       "      <th>Epochs_1</th>\n",
       "      <th>lr1</th>\n",
       "      <th>Epochs_2</th>\n",
       "      <th>lr2</th>\n",
       "      <th>emb_size</th>\n",
       "      <th>weight_decay</th>\n",
       "      <th>train_loss</th>\n",
       "      <th>val_loss</th>\n",
       "      <th>val_acc</th>\n",
       "      <th>pos_results</th>\n",
       "      <th>id_400</th>\n",
       "      <th>model</th>\n",
       "    </tr>\n",
       "  </thead>\n",
       "  <tbody>\n",
       "    <tr>\n",
       "      <th>0</th>\n",
       "      <td>0</td>\n",
       "      <td>1.2</td>\n",
       "      <td>8.0</td>\n",
       "      <td>0.12</td>\n",
       "      <td>0.0</td>\n",
       "      <td>0.012</td>\n",
       "      <td>45.0</td>\n",
       "      <td>0.0</td>\n",
       "      <td>0.043641</td>\n",
       "      <td>0.046764</td>\n",
       "      <td>0.998366</td>\n",
       "      <td>0.413625</td>\n",
       "      <td>1384.0</td>\n",
       "      <td>NaN</td>\n",
       "    </tr>\n",
       "    <tr>\n",
       "      <th>3</th>\n",
       "      <td>3</td>\n",
       "      <td>1.2</td>\n",
       "      <td>8.0</td>\n",
       "      <td>0.12</td>\n",
       "      <td>0.0</td>\n",
       "      <td>0.012</td>\n",
       "      <td>50.0</td>\n",
       "      <td>0.0</td>\n",
       "      <td>0.045970</td>\n",
       "      <td>0.049601</td>\n",
       "      <td>0.998362</td>\n",
       "      <td>0.417342</td>\n",
       "      <td>1396.0</td>\n",
       "      <td>NaN</td>\n",
       "    </tr>\n",
       "    <tr>\n",
       "      <th>6</th>\n",
       "      <td>6</td>\n",
       "      <td>1.2</td>\n",
       "      <td>8.0</td>\n",
       "      <td>0.12</td>\n",
       "      <td>0.0</td>\n",
       "      <td>0.012</td>\n",
       "      <td>55.0</td>\n",
       "      <td>0.0</td>\n",
       "      <td>0.051482</td>\n",
       "      <td>0.050015</td>\n",
       "      <td>0.998309</td>\n",
       "      <td>0.415687</td>\n",
       "      <td>1394.0</td>\n",
       "      <td>NaN</td>\n",
       "    </tr>\n",
       "    <tr>\n",
       "      <th>9</th>\n",
       "      <td>9</td>\n",
       "      <td>1.2</td>\n",
       "      <td>8.0</td>\n",
       "      <td>0.12</td>\n",
       "      <td>0.0</td>\n",
       "      <td>0.012</td>\n",
       "      <td>60.0</td>\n",
       "      <td>0.0</td>\n",
       "      <td>0.050469</td>\n",
       "      <td>0.052633</td>\n",
       "      <td>0.998263</td>\n",
       "      <td>0.419185</td>\n",
       "      <td>1386.0</td>\n",
       "      <td>NaN</td>\n",
       "    </tr>\n",
       "    <tr>\n",
       "      <th>12</th>\n",
       "      <td>12</td>\n",
       "      <td>1.2</td>\n",
       "      <td>8.0</td>\n",
       "      <td>0.12</td>\n",
       "      <td>0.0</td>\n",
       "      <td>0.012</td>\n",
       "      <td>65.0</td>\n",
       "      <td>0.0</td>\n",
       "      <td>0.054141</td>\n",
       "      <td>0.053423</td>\n",
       "      <td>0.998237</td>\n",
       "      <td>0.417074</td>\n",
       "      <td>1398.0</td>\n",
       "      <td>NaN</td>\n",
       "    </tr>\n",
       "    <tr>\n",
       "      <th>15</th>\n",
       "      <td>15</td>\n",
       "      <td>1.2</td>\n",
       "      <td>8.0</td>\n",
       "      <td>0.12</td>\n",
       "      <td>0.0</td>\n",
       "      <td>0.011</td>\n",
       "      <td>45.0</td>\n",
       "      <td>0.0</td>\n",
       "      <td>0.048480</td>\n",
       "      <td>0.046436</td>\n",
       "      <td>0.998348</td>\n",
       "      <td>0.417969</td>\n",
       "      <td>1378.0</td>\n",
       "      <td>NaN</td>\n",
       "    </tr>\n",
       "    <tr>\n",
       "      <th>18</th>\n",
       "      <td>18</td>\n",
       "      <td>1.2</td>\n",
       "      <td>8.0</td>\n",
       "      <td>0.12</td>\n",
       "      <td>0.0</td>\n",
       "      <td>0.011</td>\n",
       "      <td>50.0</td>\n",
       "      <td>0.0</td>\n",
       "      <td>0.044492</td>\n",
       "      <td>0.047827</td>\n",
       "      <td>0.998345</td>\n",
       "      <td>0.416995</td>\n",
       "      <td>1393.0</td>\n",
       "      <td>NaN</td>\n",
       "    </tr>\n",
       "    <tr>\n",
       "      <th>21</th>\n",
       "      <td>21</td>\n",
       "      <td>1.2</td>\n",
       "      <td>8.0</td>\n",
       "      <td>0.12</td>\n",
       "      <td>0.0</td>\n",
       "      <td>0.011</td>\n",
       "      <td>55.0</td>\n",
       "      <td>0.0</td>\n",
       "      <td>0.048062</td>\n",
       "      <td>0.051317</td>\n",
       "      <td>0.998283</td>\n",
       "      <td>0.414480</td>\n",
       "      <td>1379.0</td>\n",
       "      <td>NaN</td>\n",
       "    </tr>\n",
       "  </tbody>\n",
       "</table>\n",
       "</div>"
      ],
      "text/plain": [
       "    Unnamed: 0    n  Epochs_1   lr1  Epochs_2    lr2  emb_size  weight_decay  \\\n",
       "0            0  1.2       8.0  0.12       0.0  0.012      45.0           0.0   \n",
       "3            3  1.2       8.0  0.12       0.0  0.012      50.0           0.0   \n",
       "6            6  1.2       8.0  0.12       0.0  0.012      55.0           0.0   \n",
       "9            9  1.2       8.0  0.12       0.0  0.012      60.0           0.0   \n",
       "12          12  1.2       8.0  0.12       0.0  0.012      65.0           0.0   \n",
       "15          15  1.2       8.0  0.12       0.0  0.011      45.0           0.0   \n",
       "18          18  1.2       8.0  0.12       0.0  0.011      50.0           0.0   \n",
       "21          21  1.2       8.0  0.12       0.0  0.011      55.0           0.0   \n",
       "\n",
       "    train_loss  val_loss   val_acc  pos_results  id_400  model  \n",
       "0     0.043641  0.046764  0.998366     0.413625  1384.0    NaN  \n",
       "3     0.045970  0.049601  0.998362     0.417342  1396.0    NaN  \n",
       "6     0.051482  0.050015  0.998309     0.415687  1394.0    NaN  \n",
       "9     0.050469  0.052633  0.998263     0.419185  1386.0    NaN  \n",
       "12    0.054141  0.053423  0.998237     0.417074  1398.0    NaN  \n",
       "15    0.048480  0.046436  0.998348     0.417969  1378.0    NaN  \n",
       "18    0.044492  0.047827  0.998345     0.416995  1393.0    NaN  \n",
       "21    0.048062  0.051317  0.998283     0.414480  1379.0    NaN  "
      ]
     },
     "execution_count": 84,
     "metadata": {},
     "output_type": "execute_result"
    }
   ],
   "source": [
    "GR[GR['val_loss']<.18]"
   ]
  },
  {
   "cell_type": "code",
   "execution_count": 38,
   "metadata": {},
   "outputs": [
    {
     "data": {
      "image/png": "[encoded data removed]",
      "text/plain": [
       "<Figure size 1440x360 with 5 Axes>"
      ]
     },
     "metadata": {
      "needs_background": "light"
     },
     "output_type": "display_data"
    }
   ],
   "source": [
    "fig, ax = plt.subplots(1,5,figsize=(20,5))\n",
    "ax[0].hist(GR[GR['emb_size']==45]['val_loss'])\n",
    "ax[0].set_title('Emb Size 45 Val Loss')\n",
    "ax[1].hist(GR[GR['emb_size']==50]['val_loss'])\n",
    "ax[1].set_title('Emb Size 50 Val Loss')\n",
    "ax[2].hist(GR[GR['emb_size']==55]['val_loss'])\n",
    "ax[2].set_title('Emb Size 55 Val Loss')\n",
    "ax[3].hist(GR[GR['emb_size']==60]['val_loss'])\n",
    "ax[3].set_title('Emb Size 60 Val Loss')\n",
    "ax[4].hist(GR[GR['emb_size']==65]['val_loss'])\n",
    "ax[4].set_title('Emb Size 65 Val Loss')\n",
    "plt.show()"
   ]
  },
  {
   "cell_type": "code",
   "execution_count": 39,
   "metadata": {},
   "outputs": [
    {
     "data": {
      "image/png": "[encoded data removed]",
      "text/plain": [
       "<Figure size 1440x360 with 5 Axes>"
      ]
     },
     "metadata": {
      "needs_background": "light"
     },
     "output_type": "display_data"
    }
   ],
   "source": [
    "fig, ax = plt.subplots(1,5,figsize=(20,5))\n",
    "ax[0].hist(GR[GR['emb_size']==45]['train_loss'])\n",
    "ax[0].set_title('Emb Size 45 Train Loss')\n",
    "ax[1].hist(GR[GR['emb_size']==50]['train_loss'])\n",
    "ax[1].set_title('Emb Size 50 Train Loss')\n",
    "ax[2].hist(GR[GR['emb_size']==55]['train_loss'])\n",
    "ax[2].set_title('Emb Size 55 Train Loss')\n",
    "ax[3].hist(GR[GR['emb_size']==60]['train_loss'])\n",
    "ax[3].set_title('Emb Size 60 Train Loss')\n",
    "ax[4].hist(GR[GR['emb_size']==65]['train_loss'])\n",
    "ax[4].set_title('Emb Size 65 Train Loss')\n",
    "plt.show()"
   ]
  },
  {
   "cell_type": "code",
   "execution_count": 40,
   "metadata": {},
   "outputs": [
    {
     "data": {
      "image/png": "[encoded data removed]",
      "text/plain": [
       "<Figure size 1440x360 with 5 Axes>"
      ]
     },
     "metadata": {
      "needs_background": "light"
     },
     "output_type": "display_data"
    }
   ],
   "source": [
    "fig, ax = plt.subplots(1,5,figsize=(20,5))\n",
    "ax[0].hist(GR[GR['emb_size']==45]['val_acc'])\n",
    "ax[0].set_title('Emb Size 45 Val Acc')\n",
    "ax[1].hist(GR[GR['emb_size']==50]['val_acc'])\n",
    "ax[1].set_title('Emb Size 50 Val Acc')\n",
    "ax[2].hist(GR[GR['emb_size']==55]['val_acc'])\n",
    "ax[2].set_title('Emb Size 55 Val Acc')\n",
    "ax[3].hist(GR[GR['emb_size']==60]['val_acc'])\n",
    "ax[3].set_title('Emb Size 60 Val Acc')\n",
    "ax[4].hist(GR[GR['emb_size']==65]['val_acc'])\n",
    "ax[4].set_title('Emb Size 65 Val Acc')\n",
    "plt.show()"
   ]
  },
  {
   "cell_type": "code",
   "execution_count": 41,
   "metadata": {},
   "outputs": [
    {
     "data": {
      "image/png": "[encoded data removed]",
      "text/plain": [
       "<Figure size 864x576 with 4 Axes>"
      ]
     },
     "metadata": {
      "needs_background": "light"
     },
     "output_type": "display_data"
    }
   ],
   "source": [
    "GR_E1 = GR.groupby('Epochs_1').mean()\n",
    "GR_lr1 = GR.groupby('lr1').mean()\n",
    "GR_E2 = GR.groupby('Epochs_2').mean()\n",
    "GR_lr2 = GR.groupby('lr2').mean()\n",
    "fig, ax = plt.subplots(2,2,figsize=(12,8))\n",
    "ax[0,0].plot(GR_E1['train_loss'], label='Train Loss')\n",
    "ax[0,0].plot(GR_E1['val_loss'], label='Val Loss')\n",
    "ax[0,0].set_title('MF Grid Search Results by # of \\nLarge Learning Rate Epochs')\n",
    "ax[0,0].set_ylabel('Loss')\n",
    "ax[0,0].set_xlabel('Number of Epochs')\n",
    "ax[0,0].set_xticks(GR['Epochs_1'].unique())\n",
    "ax[0,1].plot(GR_lr1['train_loss'], label='Train Loss')\n",
    "ax[0,1].plot(GR_lr1['val_loss'], label='Val Loss')\n",
    "ax[0,1].set_title('MF Grid Search Results by Large Learning Rate')\n",
    "ax[0,1].set_ylabel('Loss')\n",
    "ax[0,1].set_xlabel('Learning Rate')\n",
    "ax[0,1].set_xticks(GR['lr1'].unique())\n",
    "ax[1,0].plot(GR_E2['train_loss'], label='Train Loss')\n",
    "ax[1,0].plot(GR_E2['val_loss'], label='Val Loss')\n",
    "ax[1,0].set_title('MF Grid Search Results by # of \\nSmall Learning Rate Epochs')\n",
    "ax[1,0].set_ylabel('Loss')\n",
    "ax[1,0].set_xlabel('Number of Epochs')\n",
    "ax[1,0].set_xticks(GR['Epochs_2'].unique())\n",
    "ax[1,1].plot(GR_lr2['train_loss'], label='Train Loss')\n",
    "ax[1,1].plot(GR_lr2['val_loss'], label='Val Loss')\n",
    "ax[1,1].set_title('MF Grid Search Results by Small Learning Rate')\n",
    "ax[1,1].set_ylabel('Loss')\n",
    "ax[1,1].set_xlabel('Small Learning Rate')\n",
    "ax[1,1].set_xticks(GR['lr2'].unique())\n",
    "plt.legend()\n",
    "plt.tight_layout()\n",
    "plt.show()"
   ]
  },
  {
   "cell_type": "code",
   "execution_count": 42,
   "metadata": {},
   "outputs": [
    {
     "data": {
      "image/png": "[encoded data removed]",
      "text/plain": [
       "<Figure size 576x432 with 1 Axes>"
      ]
     },
     "metadata": {
      "needs_background": "light"
     },
     "output_type": "display_data"
    }
   ],
   "source": [
    "GR_EMB = GR.groupby('emb_size').mean()\n",
    "x_lab = GR['emb_size'].unique()\n",
    "fig, ax = plt.subplots(figsize=(8,6))\n",
    "ax.plot(GR_EMB['train_loss'], label='Train Loss')\n",
    "ax.plot(GR_EMB['val_loss'], label='Val Loss')\n",
    "#ax.plot(GR_EMB['val_acc'], label='Val Acc')\n",
    "ax.set_title('MF Grid Search Results by Embedding Size')\n",
    "ax.set_ylabel('Loss')\n",
    "ax.set_xlabel('Embedding Size')\n",
    "ax.set_xticks(x_lab)\n",
    "ax.legend()\n",
    "plt.show()"
   ]
  },
  {
   "cell_type": "markdown",
   "metadata": {},
   "source": [
    "## Ensemble of Best Models"
   ]
  },
  {
   "cell_type": "code",
   "execution_count": 117,
   "metadata": {},
   "outputs": [
    {
     "data": {
      "text/html": [
       "<div>\n",
       "<style scoped>\n",
       "    .dataframe tbody tr th:only-of-type {\n",
       "        vertical-align: middle;\n",
       "    }\n",
       "\n",
       "    .dataframe tbody tr th {\n",
       "        vertical-align: top;\n",
       "    }\n",
       "\n",
       "    .dataframe thead th {\n",
       "        text-align: right;\n",
       "    }\n",
       "</style>\n",
       "<table border=\"1\" class=\"dataframe\">\n",
       "  <thead>\n",
       "    <tr style=\"text-align: right;\">\n",
       "      <th></th>\n",
       "      <th>rating_1</th>\n",
       "      <th>rating_2</th>\n",
       "      <th>rating_3</th>\n",
       "      <th>rating_4</th>\n",
       "      <th>rating_5</th>\n",
       "    </tr>\n",
       "    <tr>\n",
       "      <th>id</th>\n",
       "      <th></th>\n",
       "      <th></th>\n",
       "      <th></th>\n",
       "      <th></th>\n",
       "      <th></th>\n",
       "    </tr>\n",
       "  </thead>\n",
       "  <tbody>\n",
       "    <tr>\n",
       "      <th>0</th>\n",
       "      <td>0.487153</td>\n",
       "      <td>0.497926</td>\n",
       "      <td>0.499369</td>\n",
       "      <td>0.510465</td>\n",
       "      <td>0.526118</td>\n",
       "    </tr>\n",
       "    <tr>\n",
       "      <th>1</th>\n",
       "      <td>0.292028</td>\n",
       "      <td>0.293428</td>\n",
       "      <td>0.295124</td>\n",
       "      <td>0.333843</td>\n",
       "      <td>0.329983</td>\n",
       "    </tr>\n",
       "    <tr>\n",
       "      <th>2</th>\n",
       "      <td>0.858137</td>\n",
       "      <td>0.858712</td>\n",
       "      <td>0.858946</td>\n",
       "      <td>0.862936</td>\n",
       "      <td>0.857550</td>\n",
       "    </tr>\n",
       "    <tr>\n",
       "      <th>3</th>\n",
       "      <td>0.207513</td>\n",
       "      <td>0.217998</td>\n",
       "      <td>0.218679</td>\n",
       "      <td>0.209864</td>\n",
       "      <td>0.213452</td>\n",
       "    </tr>\n",
       "    <tr>\n",
       "      <th>4</th>\n",
       "      <td>0.157313</td>\n",
       "      <td>0.178352</td>\n",
       "      <td>0.180264</td>\n",
       "      <td>0.167968</td>\n",
       "      <td>0.193258</td>\n",
       "    </tr>\n",
       "  </tbody>\n",
       "</table>\n",
       "</div>"
      ],
      "text/plain": [
       "    rating_1  rating_2  rating_3  rating_4  rating_5\n",
       "id                                                  \n",
       "0   0.487153  0.497926  0.499369  0.510465  0.526118\n",
       "1   0.292028  0.293428  0.295124  0.333843  0.329983\n",
       "2   0.858137  0.858712  0.858946  0.862936  0.857550\n",
       "3   0.207513  0.217998  0.218679  0.209864  0.213452\n",
       "4   0.157313  0.178352  0.180264  0.167968  0.193258"
      ]
     },
     "execution_count": 117,
     "metadata": {},
     "output_type": "execute_result"
    }
   ],
   "source": [
    "# finding models to read in based off validation accuracy & error, \n",
    "# % of positive predictions, etc.\n",
    "file_list = [f'past_results/results_agg_{i+1}.csv' for i in range(5)]\n",
    "for i, file in enumerate(file_list):\n",
    "    if i == 0:\n",
    "        agg_df_5 = pd.read_csv(file)\n",
    "        agg_df_5.columns = ['id', 'rating_1']\n",
    "    else:\n",
    "        new_df = pd.read_csv(file)\n",
    "        new_df.columns = ['id', 'rating']\n",
    "        agg_df_5[f'rating_{i+1}'] = new_df['rating']\n",
    "agg_df_5.set_index('id', inplace=True)\n",
    "agg_df_5.head()"
   ]
  },
  {
   "cell_type": "code",
   "execution_count": 118,
   "metadata": {},
   "outputs": [
    {
     "data": {
      "text/html": [
       "<div>\n",
       "<style scoped>\n",
       "    .dataframe tbody tr th:only-of-type {\n",
       "        vertical-align: middle;\n",
       "    }\n",
       "\n",
       "    .dataframe tbody tr th {\n",
       "        vertical-align: top;\n",
       "    }\n",
       "\n",
       "    .dataframe thead th {\n",
       "        text-align: right;\n",
       "    }\n",
       "</style>\n",
       "<table border=\"1\" class=\"dataframe\">\n",
       "  <thead>\n",
       "    <tr style=\"text-align: right;\">\n",
       "      <th></th>\n",
       "      <th>rating_1</th>\n",
       "      <th>rating_2</th>\n",
       "      <th>rating_3</th>\n",
       "      <th>rating_4</th>\n",
       "      <th>rating_5</th>\n",
       "      <th>mean</th>\n",
       "    </tr>\n",
       "    <tr>\n",
       "      <th>id</th>\n",
       "      <th></th>\n",
       "      <th></th>\n",
       "      <th></th>\n",
       "      <th></th>\n",
       "      <th></th>\n",
       "      <th></th>\n",
       "    </tr>\n",
       "  </thead>\n",
       "  <tbody>\n",
       "    <tr>\n",
       "      <th>0</th>\n",
       "      <td>0.487153</td>\n",
       "      <td>0.497926</td>\n",
       "      <td>0.499369</td>\n",
       "      <td>0.510465</td>\n",
       "      <td>0.526118</td>\n",
       "      <td>0.504206</td>\n",
       "    </tr>\n",
       "    <tr>\n",
       "      <th>1</th>\n",
       "      <td>0.292028</td>\n",
       "      <td>0.293428</td>\n",
       "      <td>0.295124</td>\n",
       "      <td>0.333843</td>\n",
       "      <td>0.329983</td>\n",
       "      <td>0.308881</td>\n",
       "    </tr>\n",
       "    <tr>\n",
       "      <th>2</th>\n",
       "      <td>0.858137</td>\n",
       "      <td>0.858712</td>\n",
       "      <td>0.858946</td>\n",
       "      <td>0.862936</td>\n",
       "      <td>0.857550</td>\n",
       "      <td>0.859256</td>\n",
       "    </tr>\n",
       "    <tr>\n",
       "      <th>3</th>\n",
       "      <td>0.207513</td>\n",
       "      <td>0.217998</td>\n",
       "      <td>0.218679</td>\n",
       "      <td>0.209864</td>\n",
       "      <td>0.213452</td>\n",
       "      <td>0.213501</td>\n",
       "    </tr>\n",
       "    <tr>\n",
       "      <th>4</th>\n",
       "      <td>0.157313</td>\n",
       "      <td>0.178352</td>\n",
       "      <td>0.180264</td>\n",
       "      <td>0.167968</td>\n",
       "      <td>0.193258</td>\n",
       "      <td>0.175431</td>\n",
       "    </tr>\n",
       "  </tbody>\n",
       "</table>\n",
       "</div>"
      ],
      "text/plain": [
       "    rating_1  rating_2  rating_3  rating_4  rating_5      mean\n",
       "id                                                            \n",
       "0   0.487153  0.497926  0.499369  0.510465  0.526118  0.504206\n",
       "1   0.292028  0.293428  0.295124  0.333843  0.329983  0.308881\n",
       "2   0.858137  0.858712  0.858946  0.862936  0.857550  0.859256\n",
       "3   0.207513  0.217998  0.218679  0.209864  0.213452  0.213501\n",
       "4   0.157313  0.178352  0.180264  0.167968  0.193258  0.175431"
      ]
     },
     "execution_count": 118,
     "metadata": {},
     "output_type": "execute_result"
    }
   ],
   "source": [
    "agg_df_5['mean'] = agg_df_5.mean(axis=1)\n",
    "agg_df_5.head()"
   ]
  },
  {
   "cell_type": "code",
   "execution_count": 119,
   "metadata": {},
   "outputs": [
    {
     "data": {
      "text/html": [
       "<div>\n",
       "<style scoped>\n",
       "    .dataframe tbody tr th:only-of-type {\n",
       "        vertical-align: middle;\n",
       "    }\n",
       "\n",
       "    .dataframe tbody tr th {\n",
       "        vertical-align: top;\n",
       "    }\n",
       "\n",
       "    .dataframe thead th {\n",
       "        text-align: right;\n",
       "    }\n",
       "</style>\n",
       "<table border=\"1\" class=\"dataframe\">\n",
       "  <thead>\n",
       "    <tr style=\"text-align: right;\">\n",
       "      <th></th>\n",
       "      <th>id</th>\n",
       "      <th>rating</th>\n",
       "    </tr>\n",
       "  </thead>\n",
       "  <tbody>\n",
       "    <tr>\n",
       "      <th>0</th>\n",
       "      <td>0</td>\n",
       "      <td>0.504206</td>\n",
       "    </tr>\n",
       "    <tr>\n",
       "      <th>1</th>\n",
       "      <td>1</td>\n",
       "      <td>0.308881</td>\n",
       "    </tr>\n",
       "    <tr>\n",
       "      <th>2</th>\n",
       "      <td>2</td>\n",
       "      <td>0.859256</td>\n",
       "    </tr>\n",
       "    <tr>\n",
       "      <th>3</th>\n",
       "      <td>3</td>\n",
       "      <td>0.213501</td>\n",
       "    </tr>\n",
       "    <tr>\n",
       "      <th>4</th>\n",
       "      <td>4</td>\n",
       "      <td>0.175431</td>\n",
       "    </tr>\n",
       "  </tbody>\n",
       "</table>\n",
       "</div>"
      ],
      "text/plain": [
       "   id    rating\n",
       "0   0  0.504206\n",
       "1   1  0.308881\n",
       "2   2  0.859256\n",
       "3   3  0.213501\n",
       "4   4  0.175431"
      ]
     },
     "execution_count": 119,
     "metadata": {},
     "output_type": "execute_result"
    }
   ],
   "source": [
    "agg_results_avg5 = agg_df_5.reset_index()\n",
    "agg_results_avg5 = agg_results_avg5[['id', 'mean']]\n",
    "agg_results_avg5 = agg_results_avg5.rename(columns={'mean':'rating'})\n",
    "agg_results_avg5.head()"
   ]
  },
  {
   "cell_type": "code",
   "execution_count": 120,
   "metadata": {},
   "outputs": [],
   "source": [
    "agg_results_avg5.to_csv(f'grid_search_results_MF/results_agg_agg.csv', index=False)"
   ]
  },
  {
   "cell_type": "code",
   "execution_count": 121,
   "metadata": {},
   "outputs": [],
   "source": [
    "#now try the same thing with median instead\n",
    "agg_df_5['median'] = agg_df_5.loc[:, agg_df_5.columns != 'mean'].median(axis=1)\n",
    "agg_results_med5 = agg_df_5.reset_index()\n",
    "agg_results_med5 = agg_results_med5[['id', 'median']]\n",
    "agg_results_med5 = agg_results_med5.rename(columns={'median':'rating'})\n",
    "agg_results_med5.to_csv(f'grid_search_results_MF/results_agg_med5.csv', index=False)"
   ]
  },
  {
   "cell_type": "code",
   "execution_count": 122,
   "metadata": {},
   "outputs": [
    {
     "data": {
      "image/png": "[encoded data removed]",
      "text/plain": [
       "<Figure size 1440x360 with 5 Axes>"
      ]
     },
     "metadata": {
      "needs_background": "light"
     },
     "output_type": "display_data"
    }
   ],
   "source": [
    "#creating some plots of our results\n",
    "fig, ax = plt.subplots(1,5, figsize=(20, 5))\n",
    "ax[0].hist(agg_df_5['rating_1'])\n",
    "ax[0].set_title('MF Model 1')\n",
    "ax[0].set_xlabel('Prob.')\n",
    "ax[0].set_ylabel('Freq.')\n",
    "ax[1].hist(agg_df_5['rating_2'])\n",
    "ax[1].set_title('MF Model 2')\n",
    "ax[1].set_xlabel('Prob.')\n",
    "ax[1].set_ylabel('Freq.')\n",
    "ax[2].hist(agg_df_5['rating_3'])\n",
    "ax[2].set_title('MF Model 3')\n",
    "ax[2].set_xlabel('Prob.')\n",
    "ax[2].set_ylabel('Freq.')\n",
    "ax[3].hist(agg_df_5['rating_4'])\n",
    "ax[3].set_title('MF Model 4')\n",
    "ax[3].set_xlabel('Prob.')\n",
    "ax[3].set_ylabel('Freq.')\n",
    "ax[4].hist(agg_df_5['rating_5'])\n",
    "ax[4].set_title('MF Model 5')\n",
    "ax[4].set_xlabel('Prob.')\n",
    "ax[4].set_ylabel('Freq.')\n",
    "plt.tight_layout()\n",
    "plt.show()"
   ]
  },
  {
   "cell_type": "markdown",
   "metadata": {},
   "source": [
    "Trying both iterations again but with top 10 results"
   ]
  },
  {
   "cell_type": "code",
   "execution_count": 75,
   "metadata": {},
   "outputs": [
    {
     "data": {
      "text/html": [
       "<div>\n",
       "<style scoped>\n",
       "    .dataframe tbody tr th:only-of-type {\n",
       "        vertical-align: middle;\n",
       "    }\n",
       "\n",
       "    .dataframe tbody tr th {\n",
       "        vertical-align: top;\n",
       "    }\n",
       "\n",
       "    .dataframe thead th {\n",
       "        text-align: right;\n",
       "    }\n",
       "</style>\n",
       "<table border=\"1\" class=\"dataframe\">\n",
       "  <thead>\n",
       "    <tr style=\"text-align: right;\">\n",
       "      <th></th>\n",
       "      <th>rating_1</th>\n",
       "      <th>rating_2</th>\n",
       "      <th>rating_3</th>\n",
       "      <th>rating_4</th>\n",
       "      <th>rating_5</th>\n",
       "      <th>rating_6</th>\n",
       "      <th>rating_7</th>\n",
       "      <th>rating_8</th>\n",
       "      <th>rating_9</th>\n",
       "      <th>rating_10</th>\n",
       "      <th>mean</th>\n",
       "    </tr>\n",
       "    <tr>\n",
       "      <th>id</th>\n",
       "      <th></th>\n",
       "      <th></th>\n",
       "      <th></th>\n",
       "      <th></th>\n",
       "      <th></th>\n",
       "      <th></th>\n",
       "      <th></th>\n",
       "      <th></th>\n",
       "      <th></th>\n",
       "      <th></th>\n",
       "      <th></th>\n",
       "    </tr>\n",
       "  </thead>\n",
       "  <tbody>\n",
       "    <tr>\n",
       "      <th>0</th>\n",
       "      <td>0.528544</td>\n",
       "      <td>0.523691</td>\n",
       "      <td>0.479160</td>\n",
       "      <td>0.478515</td>\n",
       "      <td>0.425856</td>\n",
       "      <td>0.584770</td>\n",
       "      <td>0.604719</td>\n",
       "      <td>0.386213</td>\n",
       "      <td>0.597669</td>\n",
       "      <td>0.439700</td>\n",
       "      <td>0.504884</td>\n",
       "    </tr>\n",
       "    <tr>\n",
       "      <th>1</th>\n",
       "      <td>0.404076</td>\n",
       "      <td>0.255890</td>\n",
       "      <td>0.341564</td>\n",
       "      <td>0.269647</td>\n",
       "      <td>0.188961</td>\n",
       "      <td>0.271373</td>\n",
       "      <td>0.264327</td>\n",
       "      <td>0.242933</td>\n",
       "      <td>0.321493</td>\n",
       "      <td>0.234793</td>\n",
       "      <td>0.279506</td>\n",
       "    </tr>\n",
       "    <tr>\n",
       "      <th>2</th>\n",
       "      <td>0.855672</td>\n",
       "      <td>0.859428</td>\n",
       "      <td>0.873710</td>\n",
       "      <td>0.853538</td>\n",
       "      <td>0.848336</td>\n",
       "      <td>0.863475</td>\n",
       "      <td>0.920573</td>\n",
       "      <td>0.821673</td>\n",
       "      <td>0.912891</td>\n",
       "      <td>0.810607</td>\n",
       "      <td>0.861990</td>\n",
       "    </tr>\n",
       "    <tr>\n",
       "      <th>3</th>\n",
       "      <td>0.273591</td>\n",
       "      <td>0.153312</td>\n",
       "      <td>0.202688</td>\n",
       "      <td>0.230903</td>\n",
       "      <td>0.177070</td>\n",
       "      <td>0.209142</td>\n",
       "      <td>0.238998</td>\n",
       "      <td>0.147650</td>\n",
       "      <td>0.221991</td>\n",
       "      <td>0.171781</td>\n",
       "      <td>0.202713</td>\n",
       "    </tr>\n",
       "    <tr>\n",
       "      <th>4</th>\n",
       "      <td>0.236260</td>\n",
       "      <td>0.150256</td>\n",
       "      <td>0.117388</td>\n",
       "      <td>0.153494</td>\n",
       "      <td>0.129168</td>\n",
       "      <td>0.265010</td>\n",
       "      <td>0.218249</td>\n",
       "      <td>0.167771</td>\n",
       "      <td>0.117985</td>\n",
       "      <td>0.176771</td>\n",
       "      <td>0.173235</td>\n",
       "    </tr>\n",
       "  </tbody>\n",
       "</table>\n",
       "</div>"
      ],
      "text/plain": [
       "    rating_1  rating_2  rating_3  rating_4  rating_5  rating_6  rating_7  \\\n",
       "id                                                                         \n",
       "0   0.528544  0.523691  0.479160  0.478515  0.425856  0.584770  0.604719   \n",
       "1   0.404076  0.255890  0.341564  0.269647  0.188961  0.271373  0.264327   \n",
       "2   0.855672  0.859428  0.873710  0.853538  0.848336  0.863475  0.920573   \n",
       "3   0.273591  0.153312  0.202688  0.230903  0.177070  0.209142  0.238998   \n",
       "4   0.236260  0.150256  0.117388  0.153494  0.129168  0.265010  0.218249   \n",
       "\n",
       "    rating_8  rating_9  rating_10      mean  \n",
       "id                                           \n",
       "0   0.386213  0.597669   0.439700  0.504884  \n",
       "1   0.242933  0.321493   0.234793  0.279506  \n",
       "2   0.821673  0.912891   0.810607  0.861990  \n",
       "3   0.147650  0.221991   0.171781  0.202713  \n",
       "4   0.167771  0.117985   0.176771  0.173235  "
      ]
     },
     "execution_count": 75,
     "metadata": {},
     "output_type": "execute_result"
    }
   ],
   "source": [
    "file_list_10 = [f'best_results_agg/results-{i+1}.csv' for i in range(10)]\n",
    "for i, file in enumerate(file_list_10):\n",
    "    if i == 0:\n",
    "        agg_df_10 = pd.read_csv(file)\n",
    "        agg_df_10.columns = ['id', 'rating_1']\n",
    "    else:\n",
    "        new_df = pd.read_csv(file)\n",
    "        new_df.columns = ['id', 'rating']\n",
    "        agg_df_10[f'rating_{i+1}'] = new_df['rating']\n",
    "agg_df_10.set_index('id', inplace=True)\n",
    "agg_df_10['mean'] = agg_df_10.mean(axis=1)\n",
    "agg_results_avg10 = agg_df_10.reset_index()\n",
    "agg_results_avg10 = agg_results_avg10[['id', 'mean']]\n",
    "agg_results_avg10 = agg_results_avg10.rename(columns={'mean':'rating'})\n",
    "agg_results_avg10.to_csv(f'grid_search_results_MF/results_agg_avg10.csv', index=False)\n",
    "agg_df_10.head()"
   ]
  },
  {
   "cell_type": "code",
   "execution_count": null,
   "metadata": {},
   "outputs": [],
   "source": [
    "#now try the same thing with median instead\n",
    "agg_df_10['median'] = agg_df_10.loc[:, df.columns != 'mean'].median(axis=1)\n",
    "#agg_results_med10 = agg_df_10.reset_index()\n",
    "agg_results_med10 = agg_df_10[['id', 'median']]\n",
    "agg_results_med10 = agg_results_med10.rename(columns={'median':'rating'})\n",
    "#agg_results_med10.to_csv(f'grid_search_results_MF/results_agg_med10.csv', index=False)"
   ]
  },
  {
   "cell_type": "code",
   "execution_count": null,
   "metadata": {},
   "outputs": [],
   "source": [
    "# comparing the results via histogram \n",
    "fig, ax = plt.subplots(2,2, figsize=(12, 8))\n",
    "ax[0,0].hist(agg_df_5['mean'])\n",
    "ax[0,0].set_title('MF Mean - Top 5')\n",
    "ax[0,0].set_xlabel('Prob.')\n",
    "ax[0,0].set_ylabel('Freq.')\n",
    "ax[0,1].hist(agg_df_5['median'])\n",
    "ax[0,1].set_title('MF Median - Top 5')\n",
    "ax[0,1].set_xlabel('Prob.')\n",
    "ax[0,1].set_ylabel('Freq.')\n",
    "ax[1,0].hist(agg_df10['mean'])\n",
    "ax[1,0].set_title('MF Mean - Top 10')\n",
    "ax[1,0].set_xlabel('Prob.')\n",
    "ax[1,0].set_ylabel('Freq.')\n",
    "ax[1,1].hist(agg_df10['median'])\n",
    "ax[1,1].set_title('MF Median - Top 10')\n",
    "ax[1,1].set_xlabel('Prob.')\n",
    "ax[1,1].set_ylabel('Freq.')\n",
    "plt.tight_layout()\n",
    "plt.show()"
   ]
  },
  {
   "cell_type": "code",
   "execution_count": null,
   "metadata": {},
   "outputs": [],
   "source": [
    "file_list = [f'best_results_agg/results-{i+1}.csv' for i in range(3)]\n",
    "for i, file in enumerate(file_list):\n",
    "    if i == 0:\n",
    "        agg_df_3 = pd.read_csv(file)\n",
    "        agg_df_3.columns = ['id', 'rating_1']\n",
    "    else:\n",
    "        new_df = pd.read_csv(file)\n",
    "        new_df.columns = ['id', 'rating']\n",
    "        agg_df_3[f'rating_{i+1}'] = new_df['rating']\n",
    "agg_df_3.set_index('id', inplace=True)\n",
    "agg_df_3.head()"
   ]
  },
  {
   "cell_type": "code",
   "execution_count": null,
   "metadata": {},
   "outputs": [],
   "source": [
    "agg_df_3['mean'] = agg_df_3.mean(axis=1)\n",
    "agg_results_avg3 = agg_df_3.reset_index()\n",
    "agg_results_avg3 = agg_results_avg3[['id', 'mean']]\n",
    "agg_results_avg3 = agg_results_avg3.rename(columns={'mean':'rating'})\n",
    "agg_results_avg3.head()"
   ]
  },
  {
   "cell_type": "code",
   "execution_count": null,
   "metadata": {},
   "outputs": [],
   "source": [
    "agg_results_avg3.to_csv(f'grid_search_results_MF/results_agg_avg3.csv', index=False)"
   ]
  },
  {
   "cell_type": "markdown",
   "metadata": {},
   "source": [
    "## NN Model"
   ]
  },
  {
   "cell_type": "code",
   "execution_count": 93,
   "metadata": {
    "ExecuteTime": {
     "end_time": "2022-02-25T18:46:24.477322Z",
     "start_time": "2022-02-25T18:46:24.461262Z"
    }
   },
   "outputs": [],
   "source": [
    "class NN(nn.Module):\n",
    "    def __init__(self, num_users, num_items,emb_size=55, seed=1, hidden=4, drop=.8):\n",
    "        super(NN, self).__init__()\n",
    "        torch.manual_seed(seed)\n",
    "        self.user_emb = nn.Embedding(num_users, emb_size)\n",
    "        self.user_bias = nn.Embedding(num_users, 1)\n",
    "        self.item_emb = nn.Embedding(num_items, emb_size)\n",
    "        self.item_bias = nn.Embedding(num_items, 1)\n",
    "        ## can change the hidden layer\n",
    "        self.linear1 = nn.Linear(3,hidden)\n",
    "        self.linear2 = nn.Linear(hidden,1)\n",
    "        self.con = tensor_context_fea\n",
    "        self.item = tensor_item_fea\n",
    "         \n",
    "        # add dropout rate\n",
    "        self.drop = nn.Dropout(drop)\n",
    "        # init\n",
    "        self.user_emb.weight.data.uniform_(0,0.05)\n",
    "        self.item_emb.weight.data.uniform_(0,0.05)\n",
    "        self.user_bias.weight.data.uniform_(-0.01,0.01)\n",
    "        self.item_bias.weight.data.uniform_(-0.01,0.01)\n",
    "        \n",
    "    \n",
    "    def forward(self, u, v):\n",
    "        U = self.user_emb(u)\n",
    "        V = self.item_emb(v)\n",
    "        b_u = self.user_bias(u).squeeze()\n",
    "        b_v = self.item_bias(v).squeeze()\n",
    "        # add neural network part\n",
    "        # add context_feature and item_feature tensor as the consist features\n",
    "        x = torch.cat((((U*V).sum(1)+b_u+b_v).unsqueeze(0),self.con[v].unsqueeze(0), self.item[v].unsqueeze(0)), 0)       \n",
    "        x = torch.transpose(x,0,1)\n",
    "        x = self.linear1(x)\n",
    "        x = self.drop(F.relu(x))\n",
    "        x = self.linear2(x)\n",
    "        return torch.sigmoid(x).squeeze(1) "
   ]
  },
  {
   "cell_type": "markdown",
   "metadata": {},
   "source": [
    "#### transfer item_feature_id to tensor"
   ]
  },
  {
   "cell_type": "code",
   "execution_count": 94,
   "metadata": {
    "ExecuteTime": {
     "end_time": "2022-02-25T18:25:38.841011Z",
     "start_time": "2022-02-25T18:25:38.821365Z"
    }
   },
   "outputs": [
    {
     "data": {
      "text/plain": [
       "array([139.,  55.,  11., ..., 142., 131.,   2.])"
      ]
     },
     "execution_count": 94,
     "metadata": {},
     "output_type": "execute_result"
    }
   ],
   "source": [
    "item_fea = dict(zip(item.item_id,item.item_feature_id))\n",
    "array_item_fea = np.array(list(item_fea.values()), dtype=float)\n",
    "array_item_fea"
   ]
  },
  {
   "cell_type": "code",
   "execution_count": 95,
   "metadata": {
    "ExecuteTime": {
     "end_time": "2022-02-25T18:25:40.004374Z",
     "start_time": "2022-02-25T18:25:39.892829Z"
    }
   },
   "outputs": [
    {
     "data": {
      "text/plain": [
       "set()"
      ]
     },
     "execution_count": 95,
     "metadata": {},
     "output_type": "execute_result"
    }
   ],
   "source": [
    "# check whether we have missed anything\n",
    "set(list(range(max(train_unique['item_id'])+1)))-set(item_fea.keys())"
   ]
  },
  {
   "cell_type": "code",
   "execution_count": 96,
   "metadata": {
    "ExecuteTime": {
     "end_time": "2022-02-25T18:25:41.032955Z",
     "start_time": "2022-02-25T18:25:41.028396Z"
    }
   },
   "outputs": [
    {
     "data": {
      "text/plain": [
       "torch.Size([39901])"
      ]
     },
     "execution_count": 96,
     "metadata": {},
     "output_type": "execute_result"
    }
   ],
   "source": [
    "# transfer to tensor\n",
    "tensor_item_fea = torch.LongTensor(array_item_fea)\n",
    "tensor_item_fea.shape"
   ]
  },
  {
   "cell_type": "markdown",
   "metadata": {},
   "source": [
    "#### transfer context_feature_id to tensor"
   ]
  },
  {
   "cell_type": "code",
   "execution_count": 97,
   "metadata": {},
   "outputs": [
    {
     "data": {
      "text/plain": [
       "torch.Size([39901])"
      ]
     },
     "execution_count": 97,
     "metadata": {},
     "output_type": "execute_result"
    }
   ],
   "source": [
    "## combine the train and test first, otherwise the size will not consist\n",
    "new_df = pd.concat([train_unique, test])\n",
    "\n",
    "context_dict = dict(zip(new_df.item_id, new_df.context_feature_id))\n",
    "\n",
    "array_context_fea = np.array(list(context_dict.values()), dtype=float)\n",
    "tensor_context_fea = torch.LongTensor(array_context_fea)\n",
    "tensor_context_fea.shape"
   ]
  },
  {
   "cell_type": "markdown",
   "metadata": {},
   "source": [
    "#### Resetting training data for NN Model"
   ]
  },
  {
   "cell_type": "code",
   "execution_count": 98,
   "metadata": {
    "ExecuteTime": {
     "end_time": "2022-02-25T18:26:02.691622Z",
     "start_time": "2022-02-25T18:26:02.687061Z"
    }
   },
   "outputs": [
    {
     "data": {
      "text/plain": [
       "1070845"
      ]
     },
     "execution_count": 98,
     "metadata": {},
     "output_type": "execute_result"
    }
   ],
   "source": [
    "# n is the ratio of 0's to be populated.\n",
    "n = int(len(train_unique)*1.2)\n",
    "n #this value was changed many times to see how it affectes model training/errors"
   ]
  },
  {
   "cell_type": "code",
   "execution_count": 99,
   "metadata": {
    "ExecuteTime": {
     "end_time": "2022-02-25T18:26:03.994466Z",
     "start_time": "2022-02-25T18:26:03.785997Z"
    }
   },
   "outputs": [
    {
     "data": {
      "text/plain": [
       "(39900, 200152)"
      ]
     },
     "execution_count": 99,
     "metadata": {},
     "output_type": "execute_result"
    }
   ],
   "source": [
    "num_items = max(train_unique['item_id']) \n",
    "num_users = max(train_unique['user_id']) \n",
    "num_items,num_users "
   ]
  },
  {
   "cell_type": "code",
   "execution_count": 100,
   "metadata": {
    "ExecuteTime": {
     "end_time": "2022-02-25T18:26:05.179732Z",
     "start_time": "2022-02-25T18:26:05.038210Z"
    }
   },
   "outputs": [
    {
     "name": "stdout",
     "output_type": "stream",
     "text": [
      "(1070845, 4)\n"
     ]
    }
   ],
   "source": [
    "zero_df = random_neg_sample1(num_items,num_users,n) "
   ]
  },
  {
   "cell_type": "code",
   "execution_count": 101,
   "metadata": {
    "ExecuteTime": {
     "end_time": "2022-02-25T18:26:06.931594Z",
     "start_time": "2022-02-25T18:26:06.710451Z"
    },
    "scrolled": true
   },
   "outputs": [
    {
     "data": {
      "text/html": [
       "<div>\n",
       "<style scoped>\n",
       "    .dataframe tbody tr th:only-of-type {\n",
       "        vertical-align: middle;\n",
       "    }\n",
       "\n",
       "    .dataframe tbody tr th {\n",
       "        vertical-align: top;\n",
       "    }\n",
       "\n",
       "    .dataframe thead th {\n",
       "        text-align: right;\n",
       "    }\n",
       "</style>\n",
       "<table border=\"1\" class=\"dataframe\">\n",
       "  <thead>\n",
       "    <tr style=\"text-align: right;\">\n",
       "      <th></th>\n",
       "      <th>user_id</th>\n",
       "      <th>item_id</th>\n",
       "      <th>context_feature_id</th>\n",
       "      <th>ratings</th>\n",
       "    </tr>\n",
       "  </thead>\n",
       "  <tbody>\n",
       "    <tr>\n",
       "      <th>count</th>\n",
       "      <td>1.070845e+06</td>\n",
       "      <td>1.070845e+06</td>\n",
       "      <td>1.070845e+06</td>\n",
       "      <td>1070845.0</td>\n",
       "    </tr>\n",
       "    <tr>\n",
       "      <th>mean</th>\n",
       "      <td>1.001371e+05</td>\n",
       "      <td>1.993331e+04</td>\n",
       "      <td>1.498973e+00</td>\n",
       "      <td>0.0</td>\n",
       "    </tr>\n",
       "    <tr>\n",
       "      <th>std</th>\n",
       "      <td>5.775795e+04</td>\n",
       "      <td>1.152442e+04</td>\n",
       "      <td>1.117454e+00</td>\n",
       "      <td>0.0</td>\n",
       "    </tr>\n",
       "    <tr>\n",
       "      <th>min</th>\n",
       "      <td>0.000000e+00</td>\n",
       "      <td>0.000000e+00</td>\n",
       "      <td>0.000000e+00</td>\n",
       "      <td>0.0</td>\n",
       "    </tr>\n",
       "    <tr>\n",
       "      <th>25%</th>\n",
       "      <td>5.022300e+04</td>\n",
       "      <td>9.935000e+03</td>\n",
       "      <td>0.000000e+00</td>\n",
       "      <td>0.0</td>\n",
       "    </tr>\n",
       "    <tr>\n",
       "      <th>50%</th>\n",
       "      <td>1.002040e+05</td>\n",
       "      <td>1.992400e+04</td>\n",
       "      <td>2.000000e+00</td>\n",
       "      <td>0.0</td>\n",
       "    </tr>\n",
       "    <tr>\n",
       "      <th>75%</th>\n",
       "      <td>1.501740e+05</td>\n",
       "      <td>2.992000e+04</td>\n",
       "      <td>2.000000e+00</td>\n",
       "      <td>0.0</td>\n",
       "    </tr>\n",
       "    <tr>\n",
       "      <th>max</th>\n",
       "      <td>2.001510e+05</td>\n",
       "      <td>3.989900e+04</td>\n",
       "      <td>3.000000e+00</td>\n",
       "      <td>0.0</td>\n",
       "    </tr>\n",
       "  </tbody>\n",
       "</table>\n",
       "</div>"
      ],
      "text/plain": [
       "            user_id       item_id  context_feature_id    ratings\n",
       "count  1.070845e+06  1.070845e+06        1.070845e+06  1070845.0\n",
       "mean   1.001371e+05  1.993331e+04        1.498973e+00        0.0\n",
       "std    5.775795e+04  1.152442e+04        1.117454e+00        0.0\n",
       "min    0.000000e+00  0.000000e+00        0.000000e+00        0.0\n",
       "25%    5.022300e+04  9.935000e+03        0.000000e+00        0.0\n",
       "50%    1.002040e+05  1.992400e+04        2.000000e+00        0.0\n",
       "75%    1.501740e+05  2.992000e+04        2.000000e+00        0.0\n",
       "max    2.001510e+05  3.989900e+04        3.000000e+00        0.0"
      ]
     },
     "execution_count": 101,
     "metadata": {},
     "output_type": "execute_result"
    }
   ],
   "source": [
    "zero_df.describe()"
   ]
  },
  {
   "cell_type": "code",
   "execution_count": 102,
   "metadata": {
    "ExecuteTime": {
     "end_time": "2022-02-25T18:26:08.565729Z",
     "start_time": "2022-02-25T18:26:08.012012Z"
    }
   },
   "outputs": [
    {
     "name": "stdout",
     "output_type": "stream",
     "text": [
      "(1963216, 4)\n",
      "(1933651, 4)\n"
     ]
    }
   ],
   "source": [
    "# combine with train_unique, drop duplicate ('user_id', 'item_id', 'context_feature_id'), \n",
    "# if 3 columns value are same, keep the rating =1 row\n",
    "df = pd.concat([train_unique,zero_df],axis=0)\n",
    "print(df.shape)\n",
    "df = df.drop_duplicates(subset=['user_id', 'item_id'],keep='first')\n",
    "print(df.shape)"
   ]
  },
  {
   "cell_type": "code",
   "execution_count": 103,
   "metadata": {
    "ExecuteTime": {
     "end_time": "2022-02-25T18:26:09.956394Z",
     "start_time": "2022-02-25T18:26:09.612684Z"
    },
    "scrolled": true
   },
   "outputs": [
    {
     "data": {
      "text/html": [
       "<div>\n",
       "<style scoped>\n",
       "    .dataframe tbody tr th:only-of-type {\n",
       "        vertical-align: middle;\n",
       "    }\n",
       "\n",
       "    .dataframe tbody tr th {\n",
       "        vertical-align: top;\n",
       "    }\n",
       "\n",
       "    .dataframe thead th {\n",
       "        text-align: right;\n",
       "    }\n",
       "</style>\n",
       "<table border=\"1\" class=\"dataframe\">\n",
       "  <thead>\n",
       "    <tr style=\"text-align: right;\">\n",
       "      <th></th>\n",
       "      <th>user_id</th>\n",
       "      <th>item_id</th>\n",
       "      <th>context_feature_id</th>\n",
       "      <th>ratings</th>\n",
       "      <th>item_feature_id</th>\n",
       "    </tr>\n",
       "  </thead>\n",
       "  <tbody>\n",
       "    <tr>\n",
       "      <th>0</th>\n",
       "      <td>0</td>\n",
       "      <td>28366</td>\n",
       "      <td>2</td>\n",
       "      <td>1.0</td>\n",
       "      <td>7</td>\n",
       "    </tr>\n",
       "    <tr>\n",
       "      <th>1</th>\n",
       "      <td>1731</td>\n",
       "      <td>28366</td>\n",
       "      <td>1</td>\n",
       "      <td>1.0</td>\n",
       "      <td>7</td>\n",
       "    </tr>\n",
       "    <tr>\n",
       "      <th>2</th>\n",
       "      <td>10168</td>\n",
       "      <td>28366</td>\n",
       "      <td>2</td>\n",
       "      <td>1.0</td>\n",
       "      <td>7</td>\n",
       "    </tr>\n",
       "    <tr>\n",
       "      <th>3</th>\n",
       "      <td>18883</td>\n",
       "      <td>28366</td>\n",
       "      <td>1</td>\n",
       "      <td>1.0</td>\n",
       "      <td>7</td>\n",
       "    </tr>\n",
       "    <tr>\n",
       "      <th>4</th>\n",
       "      <td>19763</td>\n",
       "      <td>28366</td>\n",
       "      <td>2</td>\n",
       "      <td>1.0</td>\n",
       "      <td>7</td>\n",
       "    </tr>\n",
       "  </tbody>\n",
       "</table>\n",
       "</div>"
      ],
      "text/plain": [
       "   user_id  item_id  context_feature_id  ratings  item_feature_id\n",
       "0        0    28366                   2      1.0                7\n",
       "1     1731    28366                   1      1.0                7\n",
       "2    10168    28366                   2      1.0                7\n",
       "3    18883    28366                   1      1.0                7\n",
       "4    19763    28366                   2      1.0                7"
      ]
     },
     "execution_count": 103,
     "metadata": {},
     "output_type": "execute_result"
    }
   ],
   "source": [
    "# merge 2 datasets\n",
    "train_df = df.merge(item, on='item_id')\n",
    "train_df.head()"
   ]
  },
  {
   "cell_type": "code",
   "execution_count": 105,
   "metadata": {
    "ExecuteTime": {
     "start_time": "2022-02-25T18:52:29.251Z"
    },
    "scrolled": true
   },
   "outputs": [
    {
     "name": "stdout",
     "output_type": "stream",
     "text": [
      "01: train loss 0.693 valid loss 0.693 valid acc 0.511\n",
      "02: train loss 0.692 valid loss 0.690 valid acc 0.517\n",
      "03: train loss 0.692 valid loss 0.689 valid acc 0.518\n",
      "04: train loss 0.691 valid loss 0.690 valid acc 0.519\n",
      "05: train loss 0.691 valid loss 0.689 valid acc 0.520\n"
     ]
    },
    {
     "data": {
      "text/plain": [
       "(0.6908925771713257, 0.6887662410736084, 0.5200528029894609)"
      ]
     },
     "execution_count": 105,
     "metadata": {},
     "output_type": "execute_result"
    }
   ],
   "source": [
    "# change the parameter i.e. emb_size, lr, wd\n",
    "model = NN(num_users+1, num_items+1, emb_size=55)\n",
    "training(model,ratings_one,ratings_zero, epochs=5, lr=0.1, wd=1e-6)"
   ]
  },
  {
   "cell_type": "code",
   "execution_count": null,
   "metadata": {
    "ExecuteTime": {
     "end_time": "2022-02-25T17:32:42.194901Z",
     "start_time": "2022-02-25T17:28:47.357964Z"
    }
   },
   "outputs": [],
   "source": [
    "training(model,ratings_one,ratings_zero, epochs=2, lr=0.0001, wd=1e-6) ## train loss 0.18, valid loss 0.22"
   ]
  },
  {
   "cell_type": "code",
   "execution_count": null,
   "metadata": {
    "ExecuteTime": {
     "end_time": "2022-02-25T18:52:09.329775Z",
     "start_time": "2022-02-25T18:52:09.078962Z"
    },
    "scrolled": true
   },
   "outputs": [],
   "source": [
    "u_test=torch.LongTensor(test.user_id.values)\n",
    "v_test=torch.LongTensor(test.item_id.values)\n",
    "y_hat=model(u_test,v_test)\n",
    "test['rating']=y_hat.detach().numpy()\n",
    "table = {'id':test.index, 'rating':y_hat.detach().numpy()}\n",
    "results = pd.DataFrame(table)\n",
    "results[results['rating']>0.5].sum()/len(results)"
   ]
  },
  {
   "cell_type": "code",
   "execution_count": null,
   "metadata": {},
   "outputs": [],
   "source": [
    "fig, ax = plt.subplots(figsize=(8,6))\n",
    "ax.hist(results['rating'])\n",
    "ax.set_title('Single NN Model Results')\n",
    "ax.set_xlabel('Prob.')\n",
    "ax.set_ylabel('Freq.')\n",
    "plt.show()"
   ]
  },
  {
   "cell_type": "code",
   "execution_count": null,
   "metadata": {
    "ExecuteTime": {
     "end_time": "2022-02-25T18:52:13.261665Z",
     "start_time": "2022-02-25T18:52:13.016424Z"
    }
   },
   "outputs": [],
   "source": [
    "u_test=torch.LongTensor(test.user_id.values)\n",
    "v_test=torch.LongTensor(test.item_id.values)\n",
    "y_hat=model(u_test,v_test)\n",
    "table = {'id':test.index, 'rating':y_hat.detach().numpy()}\n",
    "results = pd.DataFrame(table)\n",
    "results[results['rating']>0.5].sum()/len(results)\n",
    "# sum(test[test[\"item_id\"]==400][\"rating\"]>0.5)"
   ]
  },
  {
   "cell_type": "code",
   "execution_count": null,
   "metadata": {
    "ExecuteTime": {
     "end_time": "2022-02-25T18:52:14.512857Z",
     "start_time": "2022-02-25T18:52:14.509232Z"
    }
   },
   "outputs": [],
   "source": [
    "test['rating']= results['rating']"
   ]
  },
  {
   "cell_type": "code",
   "execution_count": null,
   "metadata": {
    "ExecuteTime": {
     "end_time": "2022-02-25T18:52:15.656891Z",
     "start_time": "2022-02-25T18:52:15.645261Z"
    }
   },
   "outputs": [],
   "source": [
    "sum(test[test[\"item_id\"]==400][\"rating\"]>0.5)"
   ]
  },
  {
   "cell_type": "code",
   "execution_count": null,
   "metadata": {},
   "outputs": [],
   "source": [
    "results.describe()"
   ]
  },
  {
   "cell_type": "code",
   "execution_count": null,
   "metadata": {
    "ExecuteTime": {
     "end_time": "2022-02-25T01:23:13.549220Z",
     "start_time": "2022-02-25T01:23:12.604591Z"
    }
   },
   "outputs": [],
   "source": [
    "#to csv\n",
    "results.to_csv('results_NN.csv', index = False)"
   ]
  },
  {
   "cell_type": "markdown",
   "metadata": {},
   "source": [
    "#### Grid Search NN"
   ]
  },
  {
   "cell_type": "code",
   "execution_count": null,
   "metadata": {},
   "outputs": [],
   "source": [
    "try:\n",
    "    resultsNN_df = pd.read_csv('grid_results_NN.csv')\n",
    "    resultsNN_df = resultsNN_df.set_index('model')\n",
    "except:\n",
    "    resultsNN_df = pd.DataFrame(columns=['model', 'n', 'Epochs_1', 'lr1', 'DropOut', 'emb_size', 'Hidden',\n",
    "                                       'train_loss', 'val_loss', 'val_acc', 'pos_results', 'id_400'])\n",
    "\n",
    "    resultsNN_df['n'] = 1.2\n",
    "    resultsNN_df = resultsNN_df.set_index('model')\n",
    "#resultsNN_df = resultsNN_df.rename(columns={'Unnamed: 0':'model'}).set_index('model')\n",
    "resultsNN_df.head()"
   ]
  },
  {
   "cell_type": "code",
   "execution_count": null,
   "metadata": {},
   "outputs": [],
   "source": [
    "E1 = [8, 10] # number of epochs at larger learning rate (lr1)\n",
    "lr1 = [.01, .005]\n",
    "dropout = [.8, .9] \n",
    "EB_size = [45, 55, 65]\n",
    "HIDDEN = [16, 64, 256]\n",
    "n=1.2"
   ]
  },
  {
   "cell_type": "code",
   "execution_count": null,
   "metadata": {},
   "outputs": [],
   "source": [
    "############### DO NOT RUN CELL ##################\n",
    "# GRID SEARCH HAS ALRADY BEEN COMPLETED AND TAKES \n",
    "# A LONG TIME TO RUN; RESULTS WILL BE LOADED BELOW\n",
    "\n",
    "# count = 1\n",
    "# for e1 in E1:\n",
    "#     for L1 in lr1:\n",
    "#         for D in dropout:\n",
    "#             for embs in EB_size:\n",
    "#                 for H in HIDDEN:\n",
    "#                     if 0<len(resultsNN_df[(resultsNN_df['Epochs_1']==e1)&(resultsNN_df['lr1']==L1)&\\\n",
    "#                                                 (resultsNN_df['DropOut']==D)&\\\n",
    "#                                                 (resultsNN_df['emb_size']==embs)&(resultsNN_df['Hidden']==H)]):\n",
    "#                         pass\n",
    "#                     model = NN(num_users+1, num_items+1, emb_size=embs, hidden=H, drop=D)\n",
    "#                     train_loss_, valid_loss_, valid_acc_ = training(model,ratings_one,ratings_zero, epochs=e1, lr=L1)\n",
    "\n",
    "#                     train_loss_, valid_loss_, valid_acc_ = training(model,ratings_one,ratings_zero, epochs=3, lr=.0001)\n",
    "\n",
    "#                     # creating results\n",
    "#                     u_test_ = torch.LongTensor(test.user_id.values)\n",
    "#                     v_test_ = torch.LongTensor(test.item_id.values)\n",
    "#                     y_hat_ = model(u_test_, v_test_)\n",
    "#                     test['rating']=y_hat_.detach().numpy()\n",
    "#                     table_ = {'id': test.index, 'rating': y_hat_.detach().numpy()}\n",
    "#                     result_ = pd.DataFrame(table_)\n",
    "#                     result_.to_csv(f'grid_search_results_NN/results_model_{count}.csv', index=False)\n",
    "#                     pos_res_test = result_[result_['rating'] > 0.5].sum() / len(result_)\n",
    "#                     _400_test = sum(test[test[\"item_id\"] == 400][\"rating\"] > 0.5)\n",
    "\n",
    "#                     summary = { 'model':count,\n",
    "#                         'n': n,\n",
    "#                         'Epochs_1': e1,\n",
    "#                         'lr1': L1,\n",
    "#                         'DropOut': D,\n",
    "#                         'emb_size': embs,\n",
    "#                         'Hidden': H,\n",
    "#                         'train_loss': train_loss_,\n",
    "#                         'val_loss': valid_loss_,\n",
    "#                         'val_acc': valid_acc_,\n",
    "#                         'pos_results': pos_res_test[1],\n",
    "#                         'id_400': _400_test}\n",
    "\n",
    "#                     print(summary)\n",
    "#                     resultsNN_df = resultsNN_df.append(summary,ignore_index=True)\n",
    "#                     count += 1"
   ]
  },
  {
   "cell_type": "code",
   "execution_count": null,
   "metadata": {},
   "outputs": [],
   "source": [
    "resultsNN_df.to_csv('grid_results_NN.csv', index ='model')\n",
    "NN_GR = pd.read_csv('grid_results_NN.csv')"
   ]
  },
  {
   "cell_type": "markdown",
   "metadata": {},
   "source": [
    "#### Comparing the results visually"
   ]
  },
  {
   "cell_type": "code",
   "execution_count": null,
   "metadata": {},
   "outputs": [],
   "source": [
    "NN_E1 = NN_GR.groupby('Epochs_1').mean()\n",
    "NN_lr1 = NN_GR.groupby('lr1').mean()\n",
    "NN_hid = NN_GR.groupby('Hidden').mean()\n",
    "NN_drop= NN_GR.groupby('DropOut').mean()\n",
    "x_lab = NN_GR['Epochs_1'].unique()\n",
    "fig, ax = plt.subplots(2,2,figsize=(12,8))\n",
    "ax[0,0].plot(NN_E1['train_loss'], label='Train Loss')\n",
    "ax[0,0].plot(NN_E1['val_loss'], label='Val Loss')\n",
    "ax[0,0].set_title('NN Grid Search Results by # of \\nLarge Learning Rate Epochs')\n",
    "ax[0,0].set_ylabel('Loss')\n",
    "ax[0,0].set_xlabel('Number of Epochs')\n",
    "ax[0,0].set_xticks(NN_GR['Epochs_1'].unique())\n",
    "ax[0,1].plot(NN_lr1['train_loss'], label='Train Loss')\n",
    "ax[0,1].plot(NN_lr1['val_loss'], label='Val Loss')\n",
    "ax[0,1].set_title('NN Grid Search Results by Learning Rate')\n",
    "ax[0,1].set_ylabel('Loss')\n",
    "ax[0,1].set_xlabel('Learning Rate')\n",
    "ax[0,1].set_xticks(NN_GR['lr1'].unique())\n",
    "ax[1,0].plot(NN_hid['train_loss'], label='Train Loss')\n",
    "ax[1,0].plot(NN_hid['val_loss'], label='Val Loss')\n",
    "ax[1,0].set_title('NN Grid Search Results by # of Hidden Layers')\n",
    "ax[1,0].set_ylabel('Loss')\n",
    "ax[1,0].set_xlabel('Hidden Layer Count')\n",
    "ax[1,0].set_xticks(NN_GR['Hidden'].unique())\n",
    "ax[1,1].plot(NN_drop['train_loss'], label='Train Loss')\n",
    "ax[1,1].plot(NN_drop['val_loss'], label='Val Loss')\n",
    "ax[1,1].set_title('NN Grid Search Results by Drop Out')\n",
    "ax[1,1].set_ylabel('Loss')\n",
    "ax[1,1].set_xlabel('Drop Out')\n",
    "ax[1,1].set_xticks(NN_GR['DropOut'].unique())\n",
    "plt.legend()\n",
    "plt.tight_layout()\n",
    "plt.show()"
   ]
  },
  {
   "cell_type": "code",
   "execution_count": null,
   "metadata": {},
   "outputs": [],
   "source": [
    "NN_EMB = NN_GR.groupby('emb_size').mean()\n",
    "x_lab = NN_GR['emb_size'].unique()\n",
    "fig, ax = plt.subplots(figsize=(8,6))\n",
    "ax.plot(NN_EMB['train_loss'], label='Train Loss')\n",
    "ax.plot(NN_EMB['val_loss'], label='Val Loss')\n",
    "#ax.plot(GR_EMB['val_acc'], label='Val Acc')\n",
    "ax.set_title('NN Grid Search Results by Embedding Size')\n",
    "ax.set_ylabel('Loss')\n",
    "ax.set_xlabel('Embedding Size')\n",
    "ax.set_xticks(x_lab)\n",
    "ax.legend()\n",
    "plt.show()"
   ]
  },
  {
   "cell_type": "markdown",
   "metadata": {},
   "source": [
    "## Trying to Combine MF and NN Models"
   ]
  },
  {
   "cell_type": "code",
   "execution_count": null,
   "metadata": {},
   "outputs": [],
   "source": [
    "class NN(nn.Module):\n",
    "    def __init__(self, num_users, num_items,emb_size=100, seed=23, hidden=16, drop=.8):\n",
    "        super(NN, self).__init__()\n",
    "        torch.manual_seed(seed)\n",
    "        self.user_emb = nn.Embedding(num_users, emb_size)\n",
    "        self.user_bias = nn.Embedding(num_users, 1)\n",
    "        self.item_emb = nn.Embedding(num_items, emb_size)\n",
    "        self.item_bias = nn.Embedding(num_items, 1)\n",
    "        ## can change the hidden layer\n",
    "        self.linear1 = nn.Linear(3,hidden)\n",
    "        self.linear2 = nn.Linear(hidden,1)\n",
    "        self.con = tensor_context_fea\n",
    "        self.item = tensor_item_fea\n",
    "         \n",
    "        # add dropout rate\n",
    "        self.drop = nn.Dropout(drop)\n",
    "        # init\n",
    "        self.user_emb.weight.data.uniform_(0,0.05)\n",
    "        self.item_emb.weight.data.uniform_(0,0.05)\n",
    "        self.user_bias.weight.data.uniform_(-0.01,0.01)\n",
    "        self.item_bias.weight.data.uniform_(-0.01,0.01)\n",
    "        \n",
    "    \n",
    "    def forward(self, u, v):\n",
    "        U = self.user_emb(u)\n",
    "        V = self.item_emb(v)\n",
    "        b_u = self.user_bias(u).squeeze()\n",
    "        b_v = self.item_bias(v).squeeze()\n",
    "        # add neural network part\n",
    "        # add context_feature and item_feature tensor as the consist features\n",
    "        x = torch.cat((((U*V).sum(1)+b_u+b_v).unsqueeze(0),self.con[v].unsqueeze(0), self.item[v].unsqueeze(0)), 0)       \n",
    "        x = torch.transpose(x,0,1)\n",
    "        x = self.linear1(x)\n",
    "        x = self.drop(F.relu(x))\n",
    "        x = self.linear2(x)\n",
    "        return torch.sigmoid(x).squeeze(1) "
   ]
  }
 ],
 "metadata": {
  "kernelspec": {
   "display_name": "Python 3",
   "language": "python",
   "name": "python3"
  },
  "language_info": {
   "codemirror_mode": {
    "name": "ipython",
    "version": 3
   },
   "file_extension": ".py",
   "mimetype": "text/x-python",
   "name": "python",
   "nbconvert_exporter": "python",
   "pygments_lexer": "ipython3",
   "version": "3.7.6"
  },
  "toc": {
   "base_numbering": 1,
   "nav_menu": {},
   "number_sections": true,
   "sideBar": true,
   "skip_h1_title": false,
   "title_cell": "Table of Contents",
   "title_sidebar": "Contents",
   "toc_cell": false,
   "toc_position": {},
   "toc_section_display": true,
   "toc_window_display": false
  },
  "varInspector": {
   "cols": {
    "lenName": 16,
    "lenType": 16,
    "lenVar": 40
   },
   "kernels_config": {
    "python": {
     "delete_cmd_postfix": "",
     "delete_cmd_prefix": "del ",
     "library": "var_list.py",
     "varRefreshCmd": "print(var_dic_list())"
    },
    "r": {
     "delete_cmd_postfix": ") ",
     "delete_cmd_prefix": "rm(",
     "library": "var_list.r",
     "varRefreshCmd": "cat(var_dic_list()) "
    }
   },
   "types_to_exclude": [
    "module",
    "function",
    "builtin_function_or_method",
    "instance",
    "_Feature"
   ],
   "window_display": false
  }
 },
 "nbformat": 4,
 "nbformat_minor": 4
}
